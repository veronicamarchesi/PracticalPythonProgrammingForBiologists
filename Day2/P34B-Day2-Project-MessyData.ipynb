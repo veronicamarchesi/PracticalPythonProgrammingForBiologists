{
  "cells": [
    {
      "cell_type": "markdown",
      "metadata": {
        "id": "8y4AK8T2UmTw"
      },
      "source": [
        "# Practical Python Programming for Biologists\n",
        "Author: Dr. Daniel Pass | www.CompassBioinformatics.com\n",
        "\n",
        "---"
      ]
    },
    {
      "cell_type": "code",
      "source": [
        "from google.colab import drive\n",
        "drive.mount('/content/drive')"
      ],
      "metadata": {
        "id": "wEdik_Vp8lch"
      },
      "execution_count": null,
      "outputs": []
    },
    {
      "cell_type": "markdown",
      "metadata": {
        "id": "QxikhAFLUpPh"
      },
      "source": [
        "---\n",
        "\n",
        "# Day 2 Project - More strings & loops - and very messy data\n",
        "\n",
        "Data is messy. Biologist data even more so. Here we have some data on bacterial abundance as collected by some well meaning scientists but unfortunately it's a bit of a mess. It is technically in a four column format liks this, howver when you look below it's mixed up:\n",
        "\n",
        "```\n",
        "| Collector | Percentage abundance | Dominant Phyla | Date |\n",
        "```\n",
        "\n",
        "Delimeters:\n",
        "- Between collected sample records: ```,```\n",
        "- Between data fields per sample: ```-```\n",
        "\n",
        "We want to clean up the data and make some sense out of it. **The objective is to output a count of the number of samples with a high proportion of each phyla.**\n",
        "\n",
        "1. Look at the text file first so that you know what we are looking at!\n",
        "2. We will read in the file ```MessyData.txt``` with ```open()``` as one object (it is too mixed-up to read line-by-line), and then split based on the delimiters above. We will learn more about loading files in the IO session.\n",
        "\n",
        "If you want to challange yourself try to clean the data first before looking in this guide section!\n",
        "I recommend using ```print()``` functions after each step to check the output is as expected.\n",
        "\n",
        "---\n",
        "\n",
        "<details>\n",
        "<summary>Step-by-step guide</summary>\n",
        "\n",
        "2. First split the data by commas into a new list of ```records``` with the function ```.split()```\n",
        "2. Create a new loop to go through your ```records``` list and split each record by ```-``` into the 4 data elements (put the output into a new list too)\n",
        "3. Create a **2D/nested** loop for your latest list, to remove the whitepace off each element with ```.strip()```. (First go through each record, then through each element. Make sure to keep experiments together!)\n",
        "4. Create a long list of all the dominant phyla per sample (The third column of the data) - some samples have multiple phyla, so have to be split again first! Careful here, because you want a basic list, not a list of lists.\n",
        "\n",
        "</details>\n",
        "\n",
        "---\n",
        "\n",
        "5. Print out your new clean dataframe!\n",
        "\n",
        "**Extensions**\n",
        "1. Calculate the average abundance per collection date (4 options) (use ```if date_column == ....```. We'll look at automatically building lists later)\n",
        "2. Output a clean list of all named phyla from the data column in a list named ```phyla_count```. There may be more than one phyla in the list per sample. There is a codeblock at the end that will count for each of the list I've given you, and summarise your output for a list of phyla."
      ]
    },
    {
      "cell_type": "code",
      "execution_count": 24,
      "metadata": {
        "id": "xCi8rep_TvGs",
        "colab": {
          "base_uri": "https://localhost:8080/",
          "height": 1000
        },
        "collapsed": true,
        "outputId": "50333129-d022-4c37-eca0-d1bd8accd750"
      },
      "outputs": [
        {
          "output_type": "stream",
          "name": "stdout",
          "text": [
            "['Edith Mcbride', 1.21, 'Chloroflexi', '04/05/22']\n",
            "['Herbert Tran', 7.29, 'Chloroflexi&Acidobacteria', '04/05/22']\n",
            "['Paul Clarke', 12.52, 'Chloroflexi&Acidobacteria', '04/05/22']\n",
            "['Lucille Caldwell', 5.13, 'Chloroflexi', '04/05/22']\n",
            "['Eduardo George', 20.39, 'Chloroflexi&Bacillus', '04/05/22']\n",
            "['Danny Mclaughlin', 30.82, 'Actinomycetes', '04/05/22']\n",
            "['Stacy Vargas', 1.85, 'Actinomycetes&Bacillus', '01/08/22']\n",
            "['Shaun Brock', 17.98, 'Actinomycetes&Bacillus', '01/08/22']\n",
            "['Erick Harper', 17.41, 'Acidobacteria', '01/08/22']\n",
            "['Michelle Howell', 28.59, 'Acidobacteria', '01/08/22']\n",
            "['Carroll Boyd', 14.51, 'Actinomycetes&Acidobacteria', '01/08/22']\n",
            "['Teresa Carter', 19.64, 'Chloroflexi', '01/08/22']\n",
            "['Jacob Kennedy', 11.4, 'Chloroflexi&Firmicutes', '01/08/22']\n",
            "['Craig Chambers', 8.79, 'Chloroflexi&Acidobacteria&Firmicutes', '01/08/22']\n",
            "['Peggy Bell', 8.65, 'Acidobacteria', '01/08/22']\n",
            "['Kenneth Cunningham', 10.53, 'Proteobacteria&Acidobacteria', '01/08/22']\n",
            "['Marvin Morgan', 16.49, 'Proteobacteria&Acidobacteria&Firmicutes', '01/08/22']\n",
            "['Marjorie Russell', 6.55, 'Proteobacteria&Acidobacteria&Firmicutes', '01/08/22']\n",
            "['Israel Cummings', 11.86, 'Cyanobacteria', '01/08/22']\n",
            "['June Doyle', 22.29, 'Cyanobacteria&Bacillus', '01/08/22']\n",
            "['Jaime Buchanan', 8.35, 'Chloroflexi&Cyanobacteria&Bacillus', '01/08/22']\n",
            "['Rhonda Farmer', 2.91, 'Chloroflexi&Cyanobacteria&Bacillus', '01/08/22']\n",
            "['Darren Mckenzie', 22.94, 'Proteobacteria', '01/08/22']\n",
            "['Rufus Malone', 4.7, 'Proteobacteria&Bacillus', '01/08/22']\n",
            "['Hubert Miles', 3.59, 'Proteobacteria&Bacillus&Acidobacteria', '01/08/22']\n",
            "['Joseph Bridges', 5.66, 'Proteobacteria&Bacillus&Actinomycetes&Acidobacteria', '01/08/22']\n",
            "['Sergio Murphy', 17.51, 'Cyanobacteria', '01/08/22']\n",
            "['Audrey Ferguson', 5.54, 'Cyanobacteria&Acidobacteria', '01/08/22']\n",
            "['Edna Williams', 17.13, 'Cyanobacteria&Acidobacteria', '04/05/22']\n",
            "['Randy Fleming', 21.13, 'Cyanobacteria', '04/05/22']\n",
            "['Elisa Hart', 0.35, 'Cyanobacteria&Actinomycetes', '04/05/22']\n",
            "['Ernesto Hunt', 13.91, 'Cyanobacteria&Actinomycetes', '04/05/22']\n",
            "['Shannon Chavez', 19.26, 'Bacillus', '04/05/22']\n",
            "['Sammy Cain', 5.45, 'Bacillus&Firmicutes', '04/05/22']\n",
            "['Steven Reeves', 5.5, 'Bacillus', '04/05/22']\n",
            "['Ruben Jones', 14.56, 'Bacillus&Acidobacteria', '04/05/22']\n",
            "['Essie Hansen', 7.33, 'Bacillus&Acidobacteria&Firmicutes', '04/05/22']\n",
            "['Rene Hardy', 20.22, 'Cyanobacteria', '04/05/22']\n",
            "['Lucy Snyder', 8.67, 'Cyanobacteria&Firmicutes', '04/05/22']\n",
            "['Dallas Obrien', 8.31, 'Cyanobacteria&Firmicutes', '15/03/22']\n",
            "['Stacey Payne', 15.7, 'Chloroflexi&Cyanobacteria&Firmicutes', '15/03/22']\n",
            "['Tanya Cox', 6.74, 'Bacillus', '15/03/22']\n",
            "['Melody Moran', 30.84, 'Bacillus&Cyanobacteria', '15/03/22']\n",
            "['Louise Becker', 12.31, 'Proteobacteria&Bacillus&Cyanobacteria', '15/03/22']\n",
            "['Ryan Webster', 2.94, 'Bacillus', '15/03/22']\n",
            "['Justin Blake', 22.46, 'Chloroflexi&Bacillus', '15/03/22']\n",
            "['Beverly Baldwin', 6.6, 'Chloroflexi&Bacillus&Cyanobacteria', '15/03/22']\n",
            "['Dale Brady', 6.27, 'Bacillus', '15/03/22']\n",
            "['Guadalupe Potter', 21.12, 'Bacillus', '15/03/22']\n",
            "['Desiree Butler', 2.1, 'Chloroflexi', '15/03/22']\n",
            "['Sonja Barnett', 14.22, 'Chloroflexi&Cyanobacteria', '15/03/22']\n",
            "['Angelica Garza', 11.6, 'Chloroflexi&Cyanobacteria', '15/03/22']\n",
            "['Jamie Welch', 25.27, 'Chloroflexi&Cyanobacteria&Firmicutes', '15/03/22']\n",
            "['Rex Hudson', 8.26, 'Actinomycetes', '04/05/22']\n",
            "['Nadine Gibbs', 30.8, 'Actinomycetes&Bacillus', '04/05/22']\n",
            "['Hannah Pratt', 22.61, 'Actinomycetes&Bacillus', '04/05/22']\n",
            "['Gayle Richards', 22.19, 'Proteobacteria&Actinomycetes&Bacillus', '04/05/22']\n",
            "['Stanley Holland', 7.47, 'Firmicutes', '04/05/22']\n",
            "['Anna Dean', 5.49, 'Bacillus&Firmicutes', '04/05/22']\n",
            "['Terrance Saunders', 23.7, 'Proteobacteria&Bacillus&Firmicutes', '04/05/22']\n",
            "['Brandi Zimmerman', 26.66, 'Firmicutes', '04/05/22']\n",
            "['Guadalupe Freeman', 25.95, 'Proteobacteria&Firmicutes', '21/06/22']\n",
            "['Irving Patterson', 19.55, 'Proteobacteria&Chloroflexi&Firmicutes', '21/06/22']\n",
            "['Karl Ross', 15.68, 'Chloroflexi', '21/06/22']\n",
            "['Brandy Cortez', 23.57, 'Chloroflexi&Firmicutes', '21/06/22']\n",
            "['Mamie Riley', 29.32, 'Actinomycetes', '21/06/22']\n",
            "['Mike Thornton', 26.44, 'Actinomycetes', '21/06/22']\n",
            "['Jamie Vaughn', 17.24, 'Proteobacteria', '21/06/22']\n",
            "['Noah Day', 8.49, 'Proteobacteria', '21/06/22']\n",
            "['Josephine Keller', 13.1, 'Proteobacteria', '21/06/22']\n",
            "['Tracey Wolfe', 20.39, 'Firmicutes', '21/06/22']\n",
            "['Ignacio Parks', 14.7, 'Chloroflexi&Firmicutes', '21/06/22']\n",
            "['Beatrice Newman', 22.45, 'Chloroflexi&Actinomycetes&Firmicutes', '21/06/22']\n",
            "['Andre Norris', 28.46, 'Firmicutes', '21/06/22']\n",
            "['Albert Lewis', 23.89, 'Cyanobacteria&Firmicutes', '01/08/22']\n",
            "['Javier Bailey', 24.49, 'Cyanobacteria&Firmicutes', '01/08/22']\n",
            "['Everett Lyons', 1.81, 'Cyanobacteria&Firmicutes', '01/08/22']\n",
            "['Abraham Maxwell', 6.81, 'Proteobacteria', '01/08/22']\n",
            "['Traci Craig', 0.65, 'Proteobacteria&Bacillus', '01/08/22']\n",
            "['Jeffrey Jenkins', 26.45, 'Proteobacteria&Bacillus&Acidobacteria', '01/08/22']\n",
            "['Merle Wilson', 7.69, 'Actinomycetes', '01/08/22']\n",
            "['Janis Franklin', 8.74, 'Actinomycetes&Cyanobacteria', '01/08/22']\n",
            "['Leonard Guerrero', 1.86, 'Bacillus', '01/08/22']\n",
            "['Lana Sanchez', 14.75, 'Bacillus', '01/08/22']\n",
            "['Donna Ball', 28.1, 'Bacillus&Acidobacteria', '01/08/22']\n",
            "['Terrell Barber', 9.91, 'Proteobacteria', '01/08/22']\n",
            "['Jody Flores', 16.34, 'Proteobacteria', '01/08/22']\n",
            "['Daryl Herrera', 27.57, 'Chloroflexi', '21/06/22']\n",
            "['Miguel Mcguire', 5.25, 'Chloroflexi&Acidobacteria', '01/08/22']\n",
            "['Rogelio Gonzalez', 9.51, 'Chloroflexi&Cyanobacteria&Acidobacteria', '21/06/22']\n",
            "['Lora Hammond', 20.56, 'Proteobacteria', '21/06/22']\n",
            "['Owen Ward', 21.64, 'Proteobacteria&Bacillus', '21/06/22']\n",
            "['Malcolm Morales', 24.99, 'Proteobacteria&Bacillus&Cyanobacteria', '21/06/22']\n",
            "['Eric Mcdaniel', 29.7, 'Proteobacteria', '21/06/22']\n",
            "['Madeline Estrada', 15.52, 'Proteobacteria', '21/06/22']\n",
            "['Leticia Manning', 15.7, 'Proteobacteria&Actinomycetes', '21/06/22']\n",
            "['Mario Wallace', 12.36, 'Proteobacteria', '21/06/22']\n",
            "['Lewis Glover', 13.66, 'Proteobacteria&Chloroflexi', '21/06/22']\n",
            "['Gail Phelps', 30.52, 'Proteobacteria&Chloroflexi&Acidobacteria', '21/06/22']\n",
            "['Myrtle Morris', 22.66, 'Proteobacteria&Chloroflexi&Acidobacteria', '21/06/22']\n"
          ]
        },
        {
          "output_type": "error",
          "ename": "NameError",
          "evalue": "name 'phyla_count' is not defined",
          "traceback": [
            "\u001b[0;31m---------------------------------------------------------------------------\u001b[0m",
            "\u001b[0;31mNameError\u001b[0m                                 Traceback (most recent call last)",
            "\u001b[0;32m/tmp/ipython-input-2320430270.py\u001b[0m in \u001b[0;36m<cell line: 0>\u001b[0;34m()\u001b[0m\n\u001b[1;32m     27\u001b[0m     \u001b[0mprint\u001b[0m\u001b[0;34m(\u001b[0m\u001b[0mrec\u001b[0m\u001b[0;34m)\u001b[0m\u001b[0;34m\u001b[0m\u001b[0;34m\u001b[0m\u001b[0m\n\u001b[1;32m     28\u001b[0m \u001b[0;34m\u001b[0m\u001b[0m\n\u001b[0;32m---> 29\u001b[0;31m \u001b[0mphyla\u001b[0m \u001b[0;34m=\u001b[0m \u001b[0mset\u001b[0m\u001b[0;34m(\u001b[0m\u001b[0mphyla_count\u001b[0m\u001b[0;34m)\u001b[0m\u001b[0;34m\u001b[0m\u001b[0;34m\u001b[0m\u001b[0m\n\u001b[0m\u001b[1;32m     30\u001b[0m \u001b[0;34m\u001b[0m\u001b[0m\n",
            "\u001b[0;31mNameError\u001b[0m: name 'phyla_count' is not defined"
          ]
        }
      ],
      "source": [
        "# Write your code here\n",
        "# Read file in as one block because too messy to read line by line\n",
        "with open(\"/content/Day2-Project-MessyData.txt\") as inFile:\n",
        "  data = inFile.read()\n",
        "\n",
        "records = data.split(\",\")\n",
        "\n",
        "clean_records = []\n",
        "for rec in records:\n",
        "  fields = rec.split('-')\n",
        "  #print(fields)\n",
        "\n",
        "  clean_record = []\n",
        "  for element in fields:\n",
        "      clean_element = element.strip()\n",
        "      clean_record.append(clean_element)\n",
        "\n",
        "  clean_record[1] = float(clean_record[1].replace('%', ''))\n",
        "\n",
        "  clean_records.append(clean_record)\n",
        "\n",
        "all_phyla = []\n",
        "for rec in clean_records:\n",
        "    dom_phyla = rec[2].split('&')\n",
        "    all_phyla += dom_phyla\n",
        "\n",
        "    print(rec)\n",
        "\n",
        "phyla = set(phyla_count)\n",
        "\n"
      ]
    },
    {
      "cell_type": "code",
      "source": [
        "records = data.split(',')\n",
        "\n",
        "clean_records = []\n",
        "\n",
        "for record in records:\n",
        "  fields = record.split('-')\n",
        "\n",
        "  clean_fields = []\n",
        "\n",
        "  for field in fields:\n",
        "    clean_field = field.strip()\n",
        "    clean_fields.append(clean_field)\n",
        "\n",
        "  clean_records.append(clean_fields)\n",
        "\n",
        "all_phyla = []\n",
        "\n",
        "for record in clean_records:\n",
        "  phyla = record[2].split('&')\n",
        "  all_phyla += phyla\n",
        "\n",
        "print(all_phyla)\n",
        "\n"
      ],
      "metadata": {
        "id": "sMde0RXD9qRW"
      },
      "execution_count": null,
      "outputs": []
    },
    {
      "cell_type": "markdown",
      "source": [],
      "metadata": {
        "id": "s0YcZePq9khU"
      }
    },
    {
      "cell_type": "code",
      "execution_count": null,
      "metadata": {
        "id": "HCBHIOe_265b"
      },
      "outputs": [],
      "source": [
        "# Name your final clean list of all phyla \"phyla_count\", then test it with this code block\n",
        "phyla = ['Actinomycetes', 'Proteobacteria', 'Cyanobacteria', 'Firmicutes', 'Chloroflexi', 'Acidobacteria', 'Bacillus']\n",
        "\n",
        "print(\"Phylum\\t\\tCount\")\n",
        "for p in phyla:\n",
        "    print(p, \"\\t\", all_phyla_count.count(p))\n"
      ]
    }
  ],
  "metadata": {
    "colab": {
      "provenance": []
    },
    "kernelspec": {
      "display_name": "Python 3",
      "name": "python3"
    },
    "language_info": {
      "codemirror_mode": {
        "name": "ipython",
        "version": 3
      },
      "file_extension": ".py",
      "mimetype": "text/x-python",
      "name": "python",
      "nbconvert_exporter": "python",
      "pygments_lexer": "ipython3",
      "version": "3.11.5"
    }
  },
  "nbformat": 4,
  "nbformat_minor": 0
}