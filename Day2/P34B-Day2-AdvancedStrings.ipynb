{
  "cells": [
    {
      "cell_type": "markdown",
      "metadata": {
        "id": "j3HRoBNdGEeq"
      },
      "source": [
        "# Practical Python Programming for Biologists\n",
        "Author: Dr. Daniel Pass | www.CompassBioinformGAics.com\n",
        "\n",
        "---"
      ]
    },
    {
      "cell_type": "markdown",
      "metadata": {
        "id": "8od5eWO-FQKq"
      },
      "source": [
        "# String Methods\n",
        "There are a number of methods to manipulate strings. These are simple single-word methods to achive dificult (but often boring) tasks, but they can be incredibly useful. Some of these we have seen already as they are so common but lets see the full set:\n",
        "\n",
        "Cleaning and printing outputs\n",
        "* ```.strip()``` cleans off whitespace, or other noise from the beginning and end of a string (whitespace meaning spaces (\\s), tabs (\\t), or newlines (\\n))\n",
        "* ```.upper()```, ```.title()```, and ```.lower()``` adjust the casing of your string.\n",
        "\n",
        "Searching and modifying the string\n",
        "* ```.replace()``` replaces all instances of a character/string in a string with another character/string.\n",
        "* ```.find()``` searches a string for a character/string and returns the index value that character/string is found GA.\n",
        "\n",
        "Making/breaking lists\n",
        "* ```.split()``` takes a string and creates a list of substrings.\n",
        "* ```.join()``` takes a list of strings and creates a string.\n",
        "\n",
        "A few examples of them in action:"
      ]
    },
    {
      "cell_type": "code",
      "execution_count": 1,
      "metadata": {
        "colab": {
          "base_uri": "https://localhost:8080/"
        },
        "id": "tNW2nFR0FVIF",
        "outputId": "1fa4152b-1a57-408b-992f-5826c9ee8df4"
      },
      "outputs": [
        {
          "output_type": "stream",
          "name": "stdout",
          "text": [
            "ATGTCGACCAATTCCTAACGACCAATGCTCGACCAACGGCaaaaaaaaaaaaaa\n",
            "~~~~~~\n",
            "ATGTCGACCAATTCCTAACGACCAATGCTCGACCAACGGCAAAAAAAAAAAAAA\n",
            "~~~~~~\n",
            "a study to show how one little bit of dna became a gene!\n",
            "~~~~~~\n",
            "\n",
            "  A Study To Show How One Little Bit Of Dna Became A Gene!   \n",
            "\n",
            "\n",
            "~~~~~~\n",
            "A Study To Show How One Little Bit Of Dna Became A Gene!\n"
          ]
        }
      ],
      "source": [
        "my_gene = \"ATGTCGACCAATTCCTAACGACCAATGCTCGACCAACGGCaaaaaaaaaaaaaa\"\n",
        "article = \"\\n  a study to show how one little bit of dna became a gene!   \\n\\n\"\n",
        "\n",
        "print(my_gene)\n",
        "print(\"~~~~~~\")\n",
        "\n",
        "# Format strings\n",
        "print(my_gene.upper())\n",
        "print(\"~~~~~~\")\n",
        "print(article.strip())\n",
        "print(\"~~~~~~\")\n",
        "print(article.title())\n",
        "print(\"~~~~~~\")\n",
        "print(article.strip().title())"
      ]
    },
    {
      "cell_type": "markdown",
      "metadata": {
        "id": "7xU93E2GR6Di"
      },
      "source": [
        "Lets use ```.split()``` to separate out the DNA code. We can use anything as a split delimeter (usually a comma (```,```) or tab (```\\t```) character) but here lets be bioinformatic and use a stop codon:"
      ]
    },
    {
      "cell_type": "code",
      "execution_count": 2,
      "metadata": {
        "id": "aNmad0_v0AVo",
        "outputId": "f46218c6-dbc2-4bd1-9077-48c493f5f9d7",
        "colab": {
          "base_uri": "https://localhost:8080/"
        }
      },
      "outputs": [
        {
          "output_type": "stream",
          "name": "stdout",
          "text": [
            "['ATGT', 'CCAATTCCTAA', 'CCAATGCT', 'CCAACGGCaaaaaaaaaaaaaa']\n"
          ]
        }
      ],
      "source": [
        "# Split the sequence at the stop codon\n",
        "splitted_gene = my_gene.split(\"CGA\")\n",
        "print(splitted_gene)"
      ]
    },
    {
      "cell_type": "code",
      "execution_count": 3,
      "metadata": {
        "colab": {
          "base_uri": "https://localhost:8080/"
        },
        "id": "gz2bmOreR36C",
        "outputId": "36de8eb2-fc0a-4333-c785-cc0b9430871f"
      },
      "outputs": [
        {
          "output_type": "stream",
          "name": "stdout",
          "text": [
            "CCAATTCCTAA\n",
            "CCAAUUCCUAA\n",
            "CCAATTCCTAA\n"
          ]
        }
      ],
      "source": [
        "# Output the second element\n",
        "middle_CDS = splitted_gene[1]\n",
        "print(middle_CDS)\n",
        "\n",
        "# For fun let's use the replace function to convert to RNA\n",
        "converted_middle_CDS = middle_CDS.replace(\"T\", \"U\")\n",
        "print(converted_middle_CDS)\n",
        "\n",
        "# Note how the string stays the same and it modifies the output\n",
        "print(middle_CDS)"
      ]
    },
    {
      "cell_type": "markdown",
      "metadata": {
        "id": "h4TKhfNKEw4J"
      },
      "source": [
        "# Exercises"
      ]
    },
    {
      "cell_type": "markdown",
      "metadata": {
        "id": "eXfpieFi0AVq"
      },
      "source": [
        "We have a collection of multiple sequence alignments but they are fragmented with lots of gaps.\n",
        "\n",
        "1. Create a loop to go through the dictionary of sequences Use ```.split()``` to cut each sequence where there are gaps indicated by ```-``` characters\n",
        "2. Output the longest fragment from each sequence, and it's length. You could do this using a loop (for each fragment, ```if length > previous``` ....)\n",
        "2. Print the average length of each fragment - This may be more dificult than first imagined. Why? How could you solve that?\n",
        "\n",
        "**Extension:** There are some more advanced functions that can be more helpful (and often faster) than running loops:\n",
        " - ```max(list, key=len)``` allows you to calculate the longest string in a list. Try replacing your internal loop with that!\n",
        "- ```filter(None, list)``` which  can be used to remove empty strings from a list (using a loop is fine too)"
      ]
    },
    {
      "cell_type": "code",
      "execution_count": 26,
      "metadata": {
        "id": "5Kg39fA30AVr",
        "outputId": "4523f6d5-b49f-4403-80b5-d6afa0bf89c7",
        "colab": {
          "base_uri": "https://localhost:8080/",
          "height": 218
        }
      },
      "outputs": [
        {
          "output_type": "error",
          "ename": "AttributeError",
          "evalue": "'list' object has no attribute 'update'",
          "traceback": [
            "\u001b[0;31m---------------------------------------------------------------------------\u001b[0m",
            "\u001b[0;31mAttributeError\u001b[0m                            Traceback (most recent call last)",
            "\u001b[0;32m/tmp/ipython-input-2564024411.py\u001b[0m in \u001b[0;36m<cell line: 0>\u001b[0;34m()\u001b[0m\n\u001b[1;32m     20\u001b[0m           \u001b[0mfragment_list\u001b[0m\u001b[0;34m.\u001b[0m\u001b[0mappend\u001b[0m\u001b[0;34m(\u001b[0m\u001b[0mlen\u001b[0m\u001b[0;34m(\u001b[0m\u001b[0mfrag\u001b[0m\u001b[0;34m)\u001b[0m\u001b[0;34m)\u001b[0m\u001b[0;34m\u001b[0m\u001b[0;34m\u001b[0m\u001b[0m\n\u001b[1;32m     21\u001b[0m \u001b[0;34m\u001b[0m\u001b[0m\n\u001b[0;32m---> 22\u001b[0;31m   \u001b[0mall_frags\u001b[0m\u001b[0;34m.\u001b[0m\u001b[0mupdate\u001b[0m\u001b[0;34m(\u001b[0m \u001b[0;34m{\u001b[0m \u001b[0mID\u001b[0m \u001b[0;34m:\u001b[0m \u001b[0mfragment_list\u001b[0m \u001b[0;34m}\u001b[0m \u001b[0;34m)\u001b[0m\u001b[0;34m\u001b[0m\u001b[0;34m\u001b[0m\u001b[0m\n\u001b[0m\u001b[1;32m     23\u001b[0m   \u001b[0mprint\u001b[0m\u001b[0;34m(\u001b[0m\u001b[0;34m\"\"\u001b[0m\u001b[0;34m)\u001b[0m\u001b[0;34m\u001b[0m\u001b[0;34m\u001b[0m\u001b[0m\n\u001b[1;32m     24\u001b[0m \u001b[0;34m\u001b[0m\u001b[0m\n",
            "\u001b[0;31mAttributeError\u001b[0m: 'list' object has no attribute 'update'"
          ]
        }
      ],
      "source": [
        "sequences = {\n",
        "    \"ID1\": \"TTTCAAGATCCTGCAACACCAGT--TATGGAAGGTATTATAA--ACTTTCATCATGATTTAATGTTTTTTTTAATTATTGTAACTGTTTTTGGATGTTATTTAGAGTTATTATTCTTGTTTTG---AAAAAAAAAATCC\",\n",
        "    \"ID2\": \"TTTCAAGA-TCCTGACAACACCAGTTATGGAAGGTATTATAAACTTTCATCATGATTTAATGTTTTTTTTAAT-------GTTTTTGTTTGTTGGATGTTATTTATATT--TCAAAATTTTTGATGAAAAAAAAAATCC\",\n",
        "    \"ID3\": \"TTTCAAGATCCTGCA--ACACCATTGTTATGGAAGGTATTATAAACTTTCATCATGATTATGTTTTTTTTAATTATTGTA-------TGTGGTGGATGTTA-TTTAGAGTTATTATTCTTTTTGATGAAAAAAAAAATCC\",\n",
        "    \"ID4\": \"TTTCAAGCTGCAACACCAGGTTATGGAAGGTATTATA-AACTAATTCATCATGATTTAATGT--TTTTTTTAGATTATTGTAACTGTTTTTAGTTTGTTGGATGTTA---ATTATTCTTTGTTGATGA---AAAAAATCC\",\n",
        "    \"ID5\": \"TTTCAAGATCCTGCAACACCAGTTATGGAAGGTGGATTATAAACTTTCATCATGATTTAATGTTTTT-TTAATTATTGTAACTGTTTATTGTTGGATGTTATTTAGAGTTATTATTCTTTTTGATGAAAAAAAAAATCC\",\n",
        "}\n",
        " # Your code here\n",
        "\n",
        "all_frags = []\n",
        "\n",
        "for ID, seq in sequences.items():\n",
        "  #print(ID)\n",
        "  fragments = seq.split(\"-\")\n",
        "\n",
        "  fragment_list = []\n",
        "\n",
        "  for frag in fragments:\n",
        "      if len(frag) > 0:\n",
        "          fragment_list.append(len(frag))\n",
        "\n",
        "  all_frags.update( { ID : fragment_list } )\n",
        "  print(\"\")\n",
        "\n",
        "print(all_frags)\n",
        "\n",
        "print(all_frags.get(\"ID3\"))\n"
      ]
    }
  ],
  "metadata": {
    "colab": {
      "provenance": []
    },
    "kernelspec": {
      "display_name": "Python 3",
      "name": "python3"
    },
    "language_info": {
      "codemirror_mode": {
        "name": "ipython",
        "version": 3
      },
      "file_extension": ".py",
      "mimetype": "text/x-python",
      "name": "python",
      "nbconvert_exporter": "python",
      "pygments_lexer": "ipython3",
      "version": "3.11.9"
    }
  },
  "nbformat": 4,
  "nbformat_minor": 0
}