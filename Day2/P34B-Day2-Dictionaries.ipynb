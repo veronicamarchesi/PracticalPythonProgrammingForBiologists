{
  "cells": [
    {
      "cell_type": "markdown",
      "metadata": {
        "id": "QfYvI-_yE10I"
      },
      "source": [
        "# Practical Python Programming for Biologists\n",
        "Author: Dr. Daniel Pass | www.CompassBioinformatics.com\n",
        "\n",
        "---"
      ]
    },
    {
      "cell_type": "markdown",
      "metadata": {
        "id": "rQ5nBszYVmZT"
      },
      "source": [
        "# Dictionaries\n",
        "\n",
        "A dictionary at first looks like a 2D list but is actually unique because all data is in unordered key-value pairs. They are particularly useful for finding the corresponding pair (like a real dictionary!) when you have one value for example:\n",
        "\n",
        "- ```geneID => sequence```\n",
        "- ```aminoAcid => frequency```\n",
        "- ```site => longitude/lattitude```\n",
        "\n",
        "This example dictionary has a frequency count of each base, where the first element in each pair is the \"key\" reference, and the second element is the \"value\".\n",
        "\n",
        "It's defined in the format of ```'key' : 'value'```, between braces ```{ }``` (curly brackets)"
      ]
    },
    {
      "cell_type": "code",
      "execution_count": 1,
      "metadata": {
        "colab": {
          "base_uri": "https://localhost:8080/"
        },
        "id": "rTmf-Cp8WHSi",
        "outputId": "9211ff84-6ac7-4088-800b-4d29efa61276"
      },
      "outputs": [
        {
          "output_type": "stream",
          "name": "stdout",
          "text": [
            "{'A': 101, 'T': 250, 'G': 125, 'C': 92}\n"
          ]
        }
      ],
      "source": [
        "# Create a dictionary of DNA base counts\n",
        "base_counts = {'A': 101, 'T': 250, 'G': 125, 'C': 92}\n",
        "print(base_counts)"
      ]
    },
    {
      "cell_type": "markdown",
      "metadata": {
        "id": "hpKIJ1yeMbkr"
      },
      "source": [
        "We can use the square bracket method ```dictionary['key']``` to return the value of a dictionary key similar to using the index number for a list, however the .get() method is usually better because it handles missing data better. Note the difference:"
      ]
    },
    {
      "cell_type": "code",
      "execution_count": 2,
      "metadata": {
        "id": "M_dp7j1XMbks",
        "outputId": "587cf054-60c0-43b9-e99e-272e17dc04d9",
        "colab": {
          "base_uri": "https://localhost:8080/"
        }
      },
      "outputs": [
        {
          "output_type": "stream",
          "name": "stdout",
          "text": [
            "Number of Thymine: 250\n"
          ]
        }
      ],
      "source": [
        "print(\"Number of Thymine:\",  base_counts['T'])"
      ]
    },
    {
      "cell_type": "code",
      "execution_count": 3,
      "metadata": {
        "id": "e67OUuS5Mbkt",
        "outputId": "e689d06d-e329-488d-9bc3-2a86901a6360",
        "colab": {
          "base_uri": "https://localhost:8080/",
          "height": 146
        }
      },
      "outputs": [
        {
          "output_type": "error",
          "ename": "KeyError",
          "evalue": "'N'",
          "traceback": [
            "\u001b[0;31m---------------------------------------------------------------------------\u001b[0m",
            "\u001b[0;31mKeyError\u001b[0m                                  Traceback (most recent call last)",
            "\u001b[0;32m/tmp/ipython-input-1746410899.py\u001b[0m in \u001b[0;36m<cell line: 0>\u001b[0;34m()\u001b[0m\n\u001b[0;32m----> 1\u001b[0;31m \u001b[0mprint\u001b[0m\u001b[0;34m(\u001b[0m\u001b[0;34m\"Number of Unknowns:\"\u001b[0m\u001b[0;34m,\u001b[0m \u001b[0mbase_counts\u001b[0m\u001b[0;34m[\u001b[0m\u001b[0;34m'N'\u001b[0m\u001b[0;34m]\u001b[0m\u001b[0;34m)\u001b[0m\u001b[0;34m\u001b[0m\u001b[0;34m\u001b[0m\u001b[0m\n\u001b[0m",
            "\u001b[0;31mKeyError\u001b[0m: 'N'"
          ]
        }
      ],
      "source": [
        "print(\"Number of Unknowns:\", base_counts['N'])"
      ]
    },
    {
      "cell_type": "code",
      "execution_count": 4,
      "metadata": {
        "id": "fHwOSqcbMbku",
        "outputId": "fcffac8d-2621-458e-d45f-db90d53d6046",
        "colab": {
          "base_uri": "https://localhost:8080/"
        }
      },
      "outputs": [
        {
          "output_type": "stream",
          "name": "stdout",
          "text": [
            "Number of Unknowns: None\n"
          ]
        }
      ],
      "source": [
        "print(\"Number of Unknowns:\", base_counts.get('N'))"
      ]
    },
    {
      "cell_type": "markdown",
      "metadata": {
        "id": "sT_O75p4Mbkw"
      },
      "source": [
        "First lets add some new pairs to the dictionary. This can be done two ways:"
      ]
    },
    {
      "cell_type": "code",
      "execution_count": 5,
      "metadata": {
        "id": "IaEAF05dMbkx",
        "outputId": "980cf832-c6bb-4253-ad4c-047088276c28",
        "colab": {
          "base_uri": "https://localhost:8080/"
        }
      },
      "outputs": [
        {
          "output_type": "stream",
          "name": "stdout",
          "text": [
            "{'A': 101, 'T': 250, 'G': 125, 'C': 92, 'N': 5, 'MISSING': 0}\n"
          ]
        }
      ],
      "source": [
        "# Add a two new key-value pairs to the dictionary\n",
        "base_counts['N'] = 5\n",
        "base_counts.update({ 'MISSING' : 0 })\n",
        "\n",
        "print(base_counts)"
      ]
    },
    {
      "cell_type": "markdown",
      "metadata": {
        "id": "cw8OZ_CwWvxT"
      },
      "source": [
        "We can then access individual values based on their key just like looking them up in a dictionary, or modify/delete them:"
      ]
    },
    {
      "cell_type": "code",
      "execution_count": 6,
      "metadata": {
        "colab": {
          "base_uri": "https://localhost:8080/"
        },
        "id": "JMKJ30HtW07q",
        "outputId": "af9e9f40-132c-4b45-a0f3-22c3ccb78805"
      },
      "outputs": [
        {
          "output_type": "stream",
          "name": "stdout",
          "text": [
            "Number of Adenine: 101\n",
            "Number of Thymine: 250\n",
            "Number of Unknowns: 5\n",
            "{'A': 101, 'T': 250, 'G': 125, 'C': 92, 'N': 5, 'MISSING': 0}\n",
            "{'A': 65, 'T': 250, 'G': 125, 'C': 92, 'N': 5}\n"
          ]
        }
      ],
      "source": [
        "base_counts = {'A': 101, 'T': 250, 'G': 125, 'C': 92, 'N': 5, 'MISSING': 0}\n",
        "\n",
        "# Print corresponding value (two methods)\n",
        "print(\"Number of Adenine:\", base_counts.get('A'))\n",
        "print(\"Number of Thymine:\", base_counts.get('T'))\n",
        "print(\"Number of Unknowns:\", base_counts.get('N'))\n",
        "print(base_counts)\n",
        "\n",
        "# Modify the value for a key\n",
        "base_counts['A'] = 65\n",
        "\n",
        "# Remove the 'MISSING' key-value pair from the dictionary\n",
        "base_counts.pop('MISSING')\n",
        "print(base_counts)"
      ]
    },
    {
      "cell_type": "code",
      "execution_count": 7,
      "metadata": {
        "id": "Y3AzxdWIMbkz",
        "outputId": "83b7df34-0244-4e52-84e9-154a90d1809b",
        "colab": {
          "base_uri": "https://localhost:8080/"
        }
      },
      "outputs": [
        {
          "output_type": "stream",
          "name": "stdout",
          "text": [
            "{'A': 65, 'G': 125, 'C': 92, 'N': 5}\n",
            "Number of Adenine: 65\n",
            "Number of Thymine: None\n",
            "Number of Unknowns: 5\n"
          ]
        }
      ],
      "source": [
        "# There is also the del statement\n",
        "del base_counts['T']\n",
        "print(base_counts)\n",
        "\n",
        "# Print corresponding value (two methods)\n",
        "print(\"Number of Adenine:\", base_counts.get('A'))\n",
        "print(\"Number of Thymine:\", base_counts.get('T'))\n",
        "print(\"Number of Unknowns:\", base_counts.get('N'))"
      ]
    },
    {
      "cell_type": "markdown",
      "metadata": {
        "id": "1Z0yWCjiMbk0"
      },
      "source": [
        "A useful set of methods are ```.keys()``` and ```.values()``` which return dict objects (just like when we made a range). They can be turned into a list using the ```list()``` function in the same way."
      ]
    },
    {
      "cell_type": "code",
      "execution_count": 8,
      "metadata": {
        "id": "zdRBvbPbMbk1",
        "outputId": "ffb3bb3f-aa82-4607-e7e9-4a99d31de14f",
        "colab": {
          "base_uri": "https://localhost:8080/"
        }
      },
      "outputs": [
        {
          "output_type": "stream",
          "name": "stdout",
          "text": [
            "dict_values([65, 125, 92, 5])\n",
            "dict_keys(['A', 'G', 'C', 'N'])\n"
          ]
        }
      ],
      "source": [
        "# Print just the values\n",
        "print(base_counts.values())\n",
        "\n",
        "# Print just the keys\n",
        "print(base_counts.keys())"
      ]
    },
    {
      "cell_type": "markdown",
      "metadata": {
        "id": "issFAaV_Mbk2"
      },
      "source": [
        "We can also use the ```.items()``` method to return key:value pairs as a list of tuples. We'll return to this when we know how to run through loops of data"
      ]
    },
    {
      "cell_type": "code",
      "execution_count": 9,
      "metadata": {
        "id": "WLK2RGfgMbk2",
        "outputId": "ea9f8107-3b25-4746-a7f2-4a1fc134dccc",
        "colab": {
          "base_uri": "https://localhost:8080/"
        }
      },
      "outputs": [
        {
          "output_type": "stream",
          "name": "stdout",
          "text": [
            "{'A': 65, 'G': 125, 'C': 92, 'N': 5}\n",
            "dict_items([('A', 65), ('G', 125), ('C', 92), ('N', 5)])\n"
          ]
        }
      ],
      "source": [
        "# Print just the values\n",
        "print(base_counts)\n",
        "print(base_counts.items())"
      ]
    },
    {
      "cell_type": "markdown",
      "metadata": {
        "id": "dVtWp6SPMbk3"
      },
      "source": [
        "### Dictionary exercise\n",
        "\n",
        "1. Create a dictionary named insects where keys are the common short names of insects and values are their Latin names using this data.\n",
        "- honeybee  - Apis mellifera\n",
        "- fruitfly  - Drosophila melanogaster\n",
        "- butterfly - Papilio machaon\n",
        "- ladybird  - Coccinella septempunctata\n",
        "- fireant   - Solenopsis invicta\n",
        "\n",
        "2. Add a new insect to the insects dictionary with Mosquito & Culex pipiens\n",
        "3. Actually we have incorrectly identified the bee! Modify the honeybee to Apis cerana\n",
        "4. Print the list of latin names as a dict_list, and how many sepecies are in the dictionary"
      ]
    },
    {
      "cell_type": "code",
      "execution_count": 23,
      "metadata": {
        "id": "9UXYeFZNMbk4",
        "outputId": "5c39a5e2-a2b7-4e05-da28-83a99d7cbb9c",
        "colab": {
          "base_uri": "https://localhost:8080/"
        }
      },
      "outputs": [
        {
          "output_type": "stream",
          "name": "stdout",
          "text": [
            "{'honeybee': 'Apis cerana', 'fruitfly': 'Drosophila melanogaster', 'butterfly': 'Papilio machaon', 'ladybird': 'Coccinella septempunctata', 'fireant': 'Solepsis invicta', 'mosquito': 'Culex pipiens'}\n",
            "All the latin names are: dict_values(['Apis cerana', 'Drosophila melanogaster', 'Papilio machaon', 'Coccinella septempunctata', 'Solepsis invicta', 'Culex pipiens']) and there are 6 types\n"
          ]
        }
      ],
      "source": [
        "# Code goes here\n",
        "\n",
        "insects = {'honeybee' : 'Apis mellifera', 'fruitfly' : 'Drosophila melanogaster', 'butterfly' : 'Papilio machaon', 'ladybird' : 'Coccinella septempunctata', 'fireant': 'Solepsis invicta'}\n",
        "\n",
        "insects.update({'mosquito' : 'Culex pipiens'})\n",
        "\n",
        "insects['honeybee'] = 'Apis cerana'\n",
        "print(insects)\n",
        "print(\"All the latin names are:\", insects.values(), \"and there are\", len(insects.values()), \"types\")\n"
      ]
    },
    {
      "cell_type": "code",
      "source": [],
      "metadata": {
        "id": "69TnPJDnWwB8"
      },
      "execution_count": null,
      "outputs": []
    },
    {
      "cell_type": "markdown",
      "metadata": {
        "id": "KsVBxlMZXqI7"
      },
      "source": [
        "---\n",
        "#### Dictionary Example\n",
        "Dictionaries are really important and powerful. Lets look at another example where we can attach specific information to geneIDs, and use the ```.get``` method to search the dictionary.\n",
        "\n",
        "Here we can combine a gene sequence dictionary with our 2D list exercise from earlier"
      ]
    },
    {
      "cell_type": "code",
      "execution_count": 29,
      "metadata": {
        "colab": {
          "base_uri": "https://localhost:8080/"
        },
        "id": "O8UFUTAvXucr",
        "outputId": "57ba6a04-e746-4c80-c1e0-39da8580a7af"
      },
      "outputs": [
        {
          "output_type": "stream",
          "name": "stdout",
          "text": [
            "TP53\n",
            "0.4\n"
          ]
        }
      ],
      "source": [
        "## The data\n",
        "\n",
        "# Dictionary of gene names and sequences\n",
        "gene_dict = {'BRCA1': 'ATGTTGTCATCGTTGAGCTTTGCTTCCT',\n",
        "             'TP53': 'ATGGAGGAGCCGCAGTCAGATC',\n",
        "             'EGFR': 'ATGACCATCCAAGATGATGGTGTC',\n",
        "             'KRAS': 'ATGACTGAATATAAACTTGTGGTAG',\n",
        "             'BRAF': 'ATGGTCCAGCTTGGACCCACTCC',\n",
        "             'ALK': 'ATGAAGGAGCCCTCAGATTTCTTG',\n",
        "             'RET': 'ATGGGTGGGTTGTCGGAAGATCTT',\n",
        "             'ROS1': 'ATGAGCCACCCAGGTCCCTGTAGT',\n",
        "             'MET': 'ATGGCTTCAAGCTGTTGTCGTGAAGA'}\n",
        "\n",
        "# gene confidence values\n",
        "gene_confs = [[0.92, 'MET1', 2205], [0.82, 'EGFR', 1567], [0.93, 'KRAS', 6523], [0.4, 'TP53', 5002], [0.94, 'ROS5', 1999], [0.87, 'BRCA1', 2323]]\n",
        "\n",
        "# sort and get lowest conf gene ID\n",
        "gene_confs.sort()\n",
        "lowest_gene_conf = gene_confs[0][0]\n",
        "lowest_gene_ID = gene_confs[0][1]\n",
        "\n",
        "print(lowest_gene_ID)\n",
        "print(lowest_gene_conf)"
      ]
    },
    {
      "cell_type": "markdown",
      "metadata": {
        "id": "wj-LRG_YMbk6"
      },
      "source": [
        "We don't need to type the exact gene name. we can use the variable as the key:"
      ]
    },
    {
      "cell_type": "code",
      "execution_count": 30,
      "metadata": {
        "id": "v3nxwo96Mbk6",
        "outputId": "07510a49-fd1e-47d5-cf4d-00937936ee2a",
        "colab": {
          "base_uri": "https://localhost:8080/"
        }
      },
      "outputs": [
        {
          "output_type": "stream",
          "name": "stdout",
          "text": [
            "ATGGAGGAGCCGCAGTCAGATC\n",
            "Gene sequence for TP53 (Confidence value: 0.4) is: ATGGAGGAGCCGCAGTCAGATC\n"
          ]
        }
      ],
      "source": [
        "# Search dictionary keys for that ID\n",
        "print(gene_dict.get(lowest_gene_ID))\n",
        "\n",
        "# easier to read!\n",
        "print(\"Gene sequence for\", lowest_gene_ID, \"(Confidence value:\", str(lowest_gene_conf) + \") is:\",  gene_dict.get(lowest_gene_ID))"
      ]
    },
    {
      "cell_type": "markdown",
      "metadata": {
        "id": "xM8oV8ieMbk7"
      },
      "source": [
        "Lets continue our example from 2D lists and remove the three lowest genes from our dictionary:"
      ]
    },
    {
      "cell_type": "code",
      "execution_count": 27,
      "metadata": {
        "colab": {
          "base_uri": "https://localhost:8080/"
        },
        "id": "jA5MCmWZTGIp",
        "outputId": "bb7eaeba-9482-4673-fee1-3d0b07a2559e"
      },
      "outputs": [
        {
          "output_type": "stream",
          "name": "stdout",
          "text": [
            "gene_dict contains 9 genes\n",
            "gene_dict contains 6 genes\n"
          ]
        }
      ],
      "source": [
        "print(\"gene_dict contains\", len(gene_dict), \"genes\")\n",
        "gene_dict.pop(\"EGFR\")\n",
        "gene_dict.pop(\"TP53\")\n",
        "gene_dict.pop(\"BRCA1\")\n",
        "print(\"gene_dict contains\", len(gene_dict), \"genes\")"
      ]
    },
    {
      "cell_type": "markdown",
      "metadata": {
        "id": "2-4AuHdaT1Xk"
      },
      "source": [
        "Actually, even better idea! Instead of just throwing the data out, lets put the DNA sequences of the lowest three genes from the dictionary into a new list called ```bad_genes``` before they get discarded.\n",
        "\n",
        "Note, what happens if you run this code immediately? Read the error and identify what is wrong."
      ]
    },
    {
      "cell_type": "code",
      "execution_count": 31,
      "metadata": {
        "colab": {
          "base_uri": "https://localhost:8080/"
        },
        "id": "2JQbjR594Ob2",
        "outputId": "72357639-b29b-4ef0-f44b-358f37c7c55e"
      },
      "outputs": [
        {
          "output_type": "stream",
          "name": "stdout",
          "text": [
            "gene_dict contains 9 genes\n",
            "gene_dict contains 6 genes\n"
          ]
        }
      ],
      "source": [
        "bad_genes = []\n",
        "\n",
        "print(\"gene_dict contains\", len(gene_dict), \"genes\")\n",
        "bad_genes.append(gene_dict.pop(\"EGFR\"))\n",
        "bad_genes.append(gene_dict.pop(\"TP53\"))\n",
        "bad_genes.append(gene_dict.pop(\"BRCA1\"))\n",
        "print(\"gene_dict contains\", len(gene_dict), \"genes\")"
      ]
    },
    {
      "cell_type": "code",
      "execution_count": 32,
      "metadata": {
        "id": "vfJfdHKn4SCZ",
        "outputId": "23a98038-79ec-4a50-a7f7-72c4e58e5969",
        "colab": {
          "base_uri": "https://localhost:8080/"
        }
      },
      "outputs": [
        {
          "output_type": "stream",
          "name": "stdout",
          "text": [
            "['ATGACCATCCAAGATGATGGTGTC', 'ATGGAGGAGCCGCAGTCAGATC', 'ATGTTGTCATCGTTGAGCTTTGCTTCCT']\n",
            "{'KRAS': 'ATGACTGAATATAAACTTGTGGTAG', 'BRAF': 'ATGGTCCAGCTTGGACCCACTCC', 'ALK': 'ATGAAGGAGCCCTCAGATTTCTTG', 'RET': 'ATGGGTGGGTTGTCGGAAGATCTT', 'ROS1': 'ATGAGCCACCCAGGTCCCTGTAGT', 'MET': 'ATGGCTTCAAGCTGTTGTCGTGAAGA'}\n"
          ]
        }
      ],
      "source": [
        "print(bad_genes)\n",
        "print(gene_dict)"
      ]
    },
    {
      "cell_type": "markdown",
      "metadata": {
        "id": "QKAudoMCYk2t"
      },
      "source": [
        "Dictionaries and lists are powerful ways to handle data and often involve going between the two. There are also lots of powerful methods to search throughnot just the keys, but also the values to find relevant keys which can be very useful but first we need to learn a bit about loops and conditionals!"
      ]
    },
    {
      "cell_type": "markdown",
      "metadata": {
        "id": "xKbU1nRZkgP5"
      },
      "source": [
        "## Exercises\n",
        "\n",
        "1. Create a dictionary of bacteria and confluence values (growth) using the data:\n",
        "\n",
        "```\n",
        "[\"E. coli\", \"S. aureus\", \"P. aeruginosa\", \"K. pneumoniae\", \"A. baumannii\"]\n",
        "[60, 82, 75, 91, 70]\n",
        "```\n",
        "2. Print the confluence value of *K. pneumoniae* from the dictionary\n",
        "3. A function we haven't used yet is ```sum()```, but it works just like ```len()```. Use both of these to calculate the average confluence of all the samples in the dictionary (what's the easiest way to get all the values?)\n",
        "4. Oops! We just found another sample! Add ```{L. Beijerinick : 65}``` to the dictionary.\n",
        "5. Print the species name with the highest growth."
      ]
    },
    {
      "cell_type": "code",
      "execution_count": 47,
      "metadata": {
        "id": "8JOxai9ZlReC",
        "outputId": "9a60d470-6e51-416f-b21f-0a7be78a9bc6",
        "colab": {
          "base_uri": "https://localhost:8080/",
          "height": 292
        }
      },
      "outputs": [
        {
          "output_type": "stream",
          "name": "stdout",
          "text": [
            "{'E. coli': 60, 'S. aureus': 82, 'P. aeruginosa': 75, 'K. pneumoniae': 91, 'A. baumannii': 70}\n",
            "91\n",
            "75.6\n"
          ]
        },
        {
          "output_type": "error",
          "ename": "TypeError",
          "evalue": "sorted expected 1 argument, got 2",
          "traceback": [
            "\u001b[0;31m---------------------------------------------------------------------------\u001b[0m",
            "\u001b[0;31mTypeError\u001b[0m                                 Traceback (most recent call last)",
            "\u001b[0;32m/tmp/ipython-input-1464369236.py\u001b[0m in \u001b[0;36m<cell line: 0>\u001b[0;34m()\u001b[0m\n\u001b[1;32m     13\u001b[0m \u001b[0;31m#bacteria_dict.update({'L. Beijerinick' : 65})\u001b[0m\u001b[0;34m\u001b[0m\u001b[0;34m\u001b[0m\u001b[0m\n\u001b[1;32m     14\u001b[0m \u001b[0;34m\u001b[0m\u001b[0m\n\u001b[0;32m---> 15\u001b[0;31m \u001b[0msorted_growths\u001b[0m \u001b[0;34m=\u001b[0m \u001b[0msorted\u001b[0m\u001b[0;34m(\u001b[0m\u001b[0mmax\u001b[0m\u001b[0;34m(\u001b[0m\u001b[0mbacteria_dict\u001b[0m\u001b[0;34m.\u001b[0m\u001b[0mvalues\u001b[0m\u001b[0;34m(\u001b[0m\u001b[0;34m)\u001b[0m\u001b[0;34m)\u001b[0m\u001b[0;34m,\u001b[0m \u001b[0mbacteria_dict\u001b[0m\u001b[0;34m.\u001b[0m\u001b[0mkeys\u001b[0m\u001b[0;34m(\u001b[0m\u001b[0;34m)\u001b[0m\u001b[0;34m)\u001b[0m\u001b[0;34m\u001b[0m\u001b[0;34m\u001b[0m\u001b[0m\n\u001b[0m\u001b[1;32m     16\u001b[0m \u001b[0mprint\u001b[0m\u001b[0;34m(\u001b[0m\u001b[0msorted_growths\u001b[0m \u001b[0;34m[\u001b[0m\u001b[0;34m-\u001b[0m\u001b[0;36m1\u001b[0m\u001b[0;34m]\u001b[0m\u001b[0;34m)\u001b[0m\u001b[0;34m\u001b[0m\u001b[0;34m\u001b[0m\u001b[0m\n",
            "\u001b[0;31mTypeError\u001b[0m: sorted expected 1 argument, got 2"
          ]
        }
      ],
      "source": [
        "# Format reminder\n",
        "bact = [\"E. coli\", \"S. aureus\", \"P. aeruginosa\", \"K. pneumoniae\", \"A. baumannii\"]\n",
        "conf = [60, 82, 75, 91, 70]\n",
        "\n",
        "bacteria_dict = dict(zip(bact, conf))\n",
        "\n",
        "print(bacteria_dict)\n",
        "\n",
        "print(bacteria_dict.get('K. pneumoniae'))\n",
        "\n",
        "print(sum(bacteria_dict.values()) / len(bacteria_dict))\n",
        "\n",
        "#bacteria_dict.update({'L. Beijerinick' : 65})\n",
        "\n",
        "sorted_growths = sorted(max(bacteria_dict.values()), bacteria_dict.keys())\n",
        "print(sorted_growths [-1])\n"
      ]
    }
  ],
  "metadata": {
    "colab": {
      "provenance": []
    },
    "kernelspec": {
      "display_name": "Python 3",
      "name": "python3"
    },
    "language_info": {
      "codemirror_mode": {
        "name": "ipython",
        "version": 3
      },
      "file_extension": ".py",
      "mimetype": "text/x-python",
      "name": "python",
      "nbconvert_exporter": "python",
      "pygments_lexer": "ipython3",
      "version": "3.11.5"
    }
  },
  "nbformat": 4,
  "nbformat_minor": 0
}