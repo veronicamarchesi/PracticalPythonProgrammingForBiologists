{
  "cells": [
    {
      "cell_type": "markdown",
      "metadata": {
        "id": "QfYvI-_yE10I"
      },
      "source": [
        "# Practical Python Programming for Biologists\n",
        "Author: Dr. Daniel Pass | www.CompassBioinformatics.com\n",
        "\n",
        "---"
      ]
    },
    {
      "cell_type": "markdown",
      "metadata": {
        "id": "chQY6saIQI0B"
      },
      "source": [
        "# More Data formats\n",
        "\n",
        "So far we've just looked at singe pieces of data (as individual numbers, strings of text, or True/False values). However the real power comes from collections of data in lists, tuples, and dictionaries."
      ]
    },
    {
      "cell_type": "markdown",
      "metadata": {
        "id": "O3dpWcuaRuhi"
      },
      "source": [
        "# Lists\n",
        "\n",
        "A list is a collection of items that are ordered and changeable. Lists are one of the most commonly used data structures in Python and are used to store a collection of related values.\n",
        "\n",
        "To create a list in Python, we simply use square brackets and separate the items in the list with commas:"
      ]
    },
    {
      "cell_type": "code",
      "execution_count": 3,
      "metadata": {
        "colab": {
          "base_uri": "https://localhost:8080/"
        },
        "id": "ehgMJYEoSVFS",
        "outputId": "c44fbec9-5e35-42aa-9f19-44982d9a0f0b"
      },
      "outputs": [
        {
          "output_type": "stream",
          "name": "stdout",
          "text": [
            "['A', 'T', 'G', 'C', 'G', 'C', 'G', 'A', 'T']\n"
          ]
        }
      ],
      "source": [
        "# Create a list of DNA bases\n",
        "bases = ['A', 'T', 'G', 'C', 'G', 'C', 'G', 'A', 'T']\n",
        "\n",
        "print(bases)"
      ]
    },
    {
      "cell_type": "markdown",
      "metadata": {
        "id": "uE0oQ8hHSZXh"
      },
      "source": [
        "Because they are stored in order we can access individual elements in a list by using their index. Indexes always start at 0, so the first element in the list has an index of 0, the second element has an index of 1, and so on.\n",
        "\n",
        "When selecting multiple elements the index must be inclusive of the last element to be included. Note that it will return a list too, not just the elements you ask for."
      ]
    },
    {
      "cell_type": "code",
      "execution_count": 4,
      "metadata": {
        "colab": {
          "base_uri": "https://localhost:8080/"
        },
        "id": "kJbgZbocSaCh",
        "outputId": "2f1347af-a18b-492e-b378-a0f72d409d79"
      },
      "outputs": [
        {
          "output_type": "stream",
          "name": "stdout",
          "text": [
            "A\n"
          ]
        }
      ],
      "source": [
        "# Access the first element in the list\n",
        "print(bases[0])"
      ]
    },
    {
      "cell_type": "code",
      "execution_count": 5,
      "metadata": {
        "id": "v72Vi-BUXSD0",
        "outputId": "fa0eeaa0-4794-45d6-8a94-b6366e17d7b4",
        "colab": {
          "base_uri": "https://localhost:8080/"
        }
      },
      "outputs": [
        {
          "output_type": "stream",
          "name": "stdout",
          "text": [
            "['T', 'G', 'C', 'G']\n"
          ]
        }
      ],
      "source": [
        "# Access the second, third, fourth & fifth element in the list\n",
        "print(bases[1:5])"
      ]
    },
    {
      "cell_type": "markdown",
      "metadata": {
        "id": "9oZNtWPmXSD1"
      },
      "source": [
        "There are also some useful shortuts, for example if you leave one value empty it will assume start/end of the list. You can also use the minus ```-``` character to start from the end of the list."
      ]
    },
    {
      "cell_type": "code",
      "execution_count": 20,
      "metadata": {
        "id": "VbYylmaEXSD2",
        "outputId": "2bb9da9b-786c-46fe-cabf-571bb770bc86",
        "colab": {
          "base_uri": "https://localhost:8080/"
        }
      },
      "outputs": [
        {
          "output_type": "stream",
          "name": "stdout",
          "text": [
            "['C', 'G', 'C', 'G', 'A', 'T']\n",
            "T\n",
            "C['A', 'T']\n"
          ]
        }
      ],
      "source": [
        "\n",
        "# Access from the fourth to the end of the list\n",
        "print(bases[3:])\n",
        "\n",
        "# Access the last element in the list\n",
        "print(bases[-1])\n",
        "\n",
        "print(bases[3] + str(bases[7:]))\n"
      ]
    },
    {
      "cell_type": "markdown",
      "metadata": {
        "id": "IygAfNoEXSD3"
      },
      "source": [
        "**Exercise:** Print the 4th, 8th, & 9th elements\n",
        "\n",
        "**Extension Exercise:** Do it all in one line!"
      ]
    },
    {
      "cell_type": "markdown",
      "metadata": {
        "id": "rmJfho6xXSD4"
      },
      "source": [
        "Also note that lists don't have to be all one data type! You can even have lists of lists!\n",
        "\n",
        "It can be useful, or it can get confusing."
      ]
    },
    {
      "cell_type": "code",
      "execution_count": 17,
      "metadata": {
        "id": "c8W3yCFRXSD4",
        "outputId": "1f428080-d909-4506-894a-9d53529c58aa",
        "colab": {
          "base_uri": "https://localhost:8080/"
        }
      },
      "outputs": [
        {
          "output_type": "stream",
          "name": "stdout",
          "text": [
            "<class 'int'>\n",
            "<class 'int'>\n",
            "<class 'str'>\n",
            "<class 'float'>\n",
            "<class 'str'>\n",
            "<class 'list'>\n",
            "<class 'int'>\n",
            "<class 'float'>\n"
          ]
        }
      ],
      "source": [
        "scoring_data = [97, 85, \"above average\", 75.5, \"Missing data\", [85, 25, 76], 48, 0.97]\n",
        "\n",
        "# print type for each - We'll look more at how this works later\n",
        "for each in scoring_data: print(type(each))"
      ]
    },
    {
      "cell_type": "markdown",
      "metadata": {
        "id": "DIuyHBqUSw1r"
      },
      "source": [
        "#### Manipulating lists\n",
        "\n",
        "Once you have data in your list, you can easily replace individual elements, or add, remove, insert etc."
      ]
    },
    {
      "cell_type": "code",
      "execution_count": null,
      "metadata": {
        "colab": {
          "base_uri": "https://localhost:8080/"
        },
        "id": "5PSpVqG6TBOD",
        "outputId": "dffc32fb-1500-4546-94f7-60729fcb3ef3"
      },
      "outputs": [
        {
          "name": "stdout",
          "output_type": "stream",
          "text": [
            "['A', 'T', 'N', 'C', 'G', 'C', 'G', 'A', 'T']\n"
          ]
        }
      ],
      "source": [
        "# Modify the third element in the list\n",
        "bases[2] = 'N'\n",
        "\n",
        "print(bases)"
      ]
    },
    {
      "cell_type": "code",
      "execution_count": 23,
      "metadata": {
        "colab": {
          "base_uri": "https://localhost:8080/"
        },
        "id": "Yf8dU5JSS7LS",
        "outputId": "4564f635-910c-49ee-dcc2-add4a276a429"
      },
      "outputs": [
        {
          "output_type": "stream",
          "name": "stdout",
          "text": [
            "['A', 'T', 'G', 'C', 'N', 'G', 'C', 'G', 'A', 'T', 'U', 'U']\n",
            "['A', 'T', 'G', 'C', 'G', 'C', 'G', 'A', 'T', 'U', 'U']\n"
          ]
        }
      ],
      "source": [
        "# Add an element to the end of the list\n",
        "bases.append('U')\n",
        "\n",
        "# Insert an element at a specific index\n",
        "bases.insert(4, 'N')\n",
        "\n",
        "print(bases)\n",
        "\n",
        "# Remove an element from the list - only the first instance!\n",
        "bases.remove('N')\n",
        "print(bases)"
      ]
    },
    {
      "cell_type": "markdown",
      "metadata": {
        "id": "E4fjTbctuGBg"
      },
      "source": [
        "The ```.pop``` method is useful as it both takes the last element (by default) and removes it:"
      ]
    },
    {
      "cell_type": "code",
      "execution_count": null,
      "metadata": {
        "colab": {
          "base_uri": "https://localhost:8080/"
        },
        "id": "z2eb7ewqThj7",
        "outputId": "496de102-747d-4e75-d340-1162702feb52"
      },
      "outputs": [
        {
          "name": "stdout",
          "output_type": "stream",
          "text": [
            "['CDF', 'BRI', 'LDN', 'SWN', 'EXT']\n",
            "['CDF', 'BRI', 'LDN', 'SWN']\n"
          ]
        }
      ],
      "source": [
        "# A list of sites we still have to process\n",
        "sites = [\"CDF\", \"BRI\", \"LDN\", \"SWN\", \"EXT\"]\n",
        "\n",
        "# Remove the last element from the list (and discard it)\n",
        "print(sites)\n",
        "sites.pop()\n",
        "print(sites)"
      ]
    },
    {
      "cell_type": "markdown",
      "metadata": {
        "id": "TTHUe0wfXSD9"
      },
      "source": [
        "Instead of discarding the \"popped\" value, it can also put it into a new variable."
      ]
    },
    {
      "cell_type": "code",
      "execution_count": null,
      "metadata": {
        "id": "lxMfr1mnXSD-",
        "outputId": "71a404c1-8cb8-46bb-ab0f-c025a7f572e6"
      },
      "outputs": [
        {
          "name": "stdout",
          "output_type": "stream",
          "text": [
            "The most recent site was EXT\n",
            "Remaining sites to be processed are: ['CDF', 'BRI', 'LDN', 'SWN']\n"
          ]
        }
      ],
      "source": [
        "# A list of sites we still have to process\n",
        "sites = [\"CDF\", \"BRI\", \"LDN\", \"SWN\", \"EXT\"]\n",
        "\n",
        "last_site = sites.pop()\n",
        "print(\"The most recent site was\", last_site)\n",
        "print(\"Remaining sites to be processed are:\", sites)"
      ]
    },
    {
      "cell_type": "markdown",
      "metadata": {
        "id": "TESzYsC6XSD-"
      },
      "source": [
        "We can also pop based on the index, i.e. the first or second:"
      ]
    },
    {
      "cell_type": "code",
      "execution_count": null,
      "metadata": {
        "id": "FVfhhzupXSD_",
        "outputId": "452fcc06-e3e4-4f65-b386-3ab903dcc179"
      },
      "outputs": [
        {
          "name": "stdout",
          "output_type": "stream",
          "text": [
            "LDN\n",
            "['CDF', 'SWN']\n"
          ]
        }
      ],
      "source": [
        "second_site = sites.pop(1)\n",
        "print(second_site)\n",
        "print(sites)"
      ]
    },
    {
      "cell_type": "markdown",
      "metadata": {
        "id": "llnXPAkGXSEA"
      },
      "source": [
        "A really common requirement in a list is sorting. Maybe not too useful with just a list of numbers but with annotated information that we'll see in 2D lists later it can be useful.\n",
        "\n",
        "There's both a ```.sort()``` method, and the ```sorted()``` function. The ```.sort()``` method changes the list you already have, however ```sorted(list)``` will create a new list."
      ]
    },
    {
      "cell_type": "code",
      "execution_count": null,
      "metadata": {
        "id": "ygUssRC_XSEA",
        "outputId": "b2a748f8-500b-4e90-b431-f78a639fe9f8"
      },
      "outputs": [
        {
          "name": "stdout",
          "output_type": "stream",
          "text": [
            "original list: [25, 28, 14, 76, 58, 31, 56, 91, 24, 86, 0, 25]\n",
            "original list: [25, 28, 14, 76, 58, 31, 56, 91, 24, 86, 0, 25]\n",
            "sorted list:   [0, 14, 24, 25, 25, 28, 31, 56, 58, 76, 86, 91]\n",
            "original list: [0, 14, 24, 25, 25, 28, 31, 56, 58, 76, 86, 91]\n"
          ]
        }
      ],
      "source": [
        "leafCoverPercentage = [25, 28, 14, 76, 58, 31, 56, 91, 24, 86, 0, 25]\n",
        "print(\"original list:\", leafCoverPercentage)\n",
        "\n",
        "sorted_leafCoverPercentage = sorted(leafCoverPercentage)\n",
        "print(\"original list:\", leafCoverPercentage)\n",
        "print(\"sorted list:  \", sorted_leafCoverPercentage)\n",
        "\n",
        "leafCoverPercentage.sort()\n",
        "print(\"original list:\", leafCoverPercentage)"
      ]
    },
    {
      "cell_type": "markdown",
      "metadata": {
        "id": "_noxi2Life1X"
      },
      "source": [
        "**Building lists**\n",
        "\n",
        "In addidtion to writing your lists out, you can also add mulptiple elements on at the same time, or combine lists easily:"
      ]
    },
    {
      "cell_type": "code",
      "execution_count": null,
      "metadata": {
        "colab": {
          "base_uri": "https://localhost:8080/"
        },
        "id": "bNS7-RlQflWW",
        "outputId": "06420db5-9371-4a72-e730-83ad7b1619b3"
      },
      "outputs": [
        {
          "name": "stdout",
          "output_type": "stream",
          "text": [
            "['BRCA1', 'TP53', 'EGFR', 'KRAS', 'MET1', 'ROS']\n"
          ]
        }
      ],
      "source": [
        "confirmed_genes = ['BRCA1', 'TP53', 'EGFR', 'KRAS']\n",
        "suggested_target_genes = ['MET1', 'ROS']\n",
        "\n",
        "all_genes = confirmed_genes + suggested_target_genes\n",
        "\n",
        "print(all_genes)"
      ]
    },
    {
      "cell_type": "code",
      "execution_count": null,
      "metadata": {
        "id": "7e7QXX4AXSEC",
        "outputId": "aa4bf863-fd6f-48e7-8005-1ceecd30375b"
      },
      "outputs": [
        {
          "name": "stdout",
          "output_type": "stream",
          "text": [
            "['BRCA1', 'TP53', 'EGFR', 'KRAS', 'MET1', 'ROS']\n"
          ]
        }
      ],
      "source": [
        "all_genes + ['ABC13']\n",
        "\n",
        "print(all_genes)"
      ]
    },
    {
      "cell_type": "markdown",
      "metadata": {
        "id": "-KlsVZIqEJT5"
      },
      "source": [
        "## Exercise - BugFix\n",
        "\n",
        "Try to find and correct the issues in the code block:"
      ]
    },
    {
      "cell_type": "code",
      "execution_count": 25,
      "metadata": {
        "colab": {
          "base_uri": "https://localhost:8080/"
        },
        "id": "_pq0YNuNEIjQ",
        "outputId": "d4e8ffb3-1e05-44e2-8d61-c8d46ea9c8bf"
      },
      "outputs": [
        {
          "output_type": "stream",
          "name": "stdout",
          "text": [
            "G\n",
            "['C', 'A', 'T', 'G', 'C', 'G', 'T', 'A', 'T', 'A', 'T', 'C', 'A', 'T', 'C', 'G']\n"
          ]
        }
      ],
      "source": [
        "# Our gene insert as a list of bases\n",
        "my_insert = ['C', 'A', 'T', 'G', 'C', 'G', 'T', 'A', 'T', 'A', 'T', 'N', 'N', 'C', 'A', 'T', 'C', 'G']\n",
        "\n",
        "# Get last base\n",
        "region_length = len(my_insert)\n",
        "last_base = my_insert[-1]\n",
        "\n",
        "print(last_base)\n",
        "\n",
        "# Remove all N's\n",
        "my_insert.remove(\"N\")\n",
        "my_insert.remove(\"N\")\n",
        "print(my_insert)"
      ]
    },
    {
      "cell_type": "markdown",
      "metadata": {
        "id": "79lEj84kGhPC"
      },
      "source": [
        "### Exercise - Manipulating lists\n",
        "\n",
        "We know that the restriction enzyme **DANase** always cuts 9bp after end of the start codon. We want to create two lists. One for the sequence before the cutsite, and one for the remaining part of the sequence and print them out.\n",
        "\n",
        "1. Complete this code. Using numerical slicing, cut the string 9 bases ***after*** the ATG."
      ]
    },
    {
      "cell_type": "code",
      "execution_count": null,
      "metadata": {
        "id": "CWFQfEMEGA66",
        "outputId": "0d05560f-0616-44c4-8f96-783a66dfb9ab"
      },
      "outputs": [
        {
          "name": "stdout",
          "output_type": "stream",
          "text": [
            "['G', 'G', 'A', 'C', 'G', 'C', 'G', 'T', 'A', 'T', 'A', 'T', 'G', 'C', 'C', 'A', 'T', 'C', 'G']\n",
            "['A', 'T', 'G', 'C', 'C', 'G', 'C', 'G', 'G', 'C', 'A', 'T']\n"
          ]
        }
      ],
      "source": [
        "# Our gene as a list of bases\n",
        "my_gene = ['A', 'T', 'G', 'C', 'C', 'G', 'C', 'G', 'G', 'C', 'A', 'T', 'G', 'G', 'A', 'C', 'G', 'C', 'G', 'T', 'A', 'T', 'A', 'T', 'G', 'C', 'C', 'A', 'T', 'C', 'G']\n",
        "\n",
        "# Expected cut site: CAT|GCA\n",
        "first_part = my_gene[]\n",
        "second_part = my_gene[]\n",
        "\n",
        "print(first_part)\n",
        "print(second_part)"
      ]
    },
    {
      "cell_type": "markdown",
      "metadata": {
        "id": "aiFw0LiHXSEF"
      },
      "source": [
        "<details>\n",
        "<summary>Expected output</summary>\n",
        "\n",
        "In this example it should cut at (```CAT | GGA```)\n",
        "\n",
        "</details>"
      ]
    },
    {
      "cell_type": "markdown",
      "metadata": {
        "id": "hgm8BqzDKZJ7"
      },
      "source": [
        "**Lists into strings**\n",
        "\n",
        "We can use the .join() method to join all the elements in a list into a string and to make it easier for reading. The part between the single quotes is what will be between each element. It is a slightly odd format (because it is a string method, not a list method), but can be useful.\n",
        "\n",
        "We can make an easily readable output highlighing the restriction cut in our sequence so that it looks like:\n",
        "```...ATCG-CGAT...```\n"
      ]
    },
    {
      "cell_type": "code",
      "execution_count": null,
      "metadata": {
        "id": "sQHED2-PKk9S",
        "outputId": "e7c3e78a-df13-4021-a3f3-cb4a28f296d0"
      },
      "outputs": [
        {
          "ename": "NameError",
          "evalue": "name 'first_part' is not defined",
          "output_type": "error",
          "traceback": [
            "\u001b[1;31m---------------------------------------------------------------------------\u001b[0m",
            "\u001b[1;31mNameError\u001b[0m                                 Traceback (most recent call last)",
            "Cell \u001b[1;32mIn[25], line 2\u001b[0m\n\u001b[0;32m      1\u001b[0m \u001b[38;5;66;03m# Join our strings, with a hyphen at the cut site\u001b[39;00m\n\u001b[1;32m----> 2\u001b[0m \u001b[38;5;28mprint\u001b[39m(\u001b[38;5;124m'\u001b[39m\u001b[38;5;124m'\u001b[39m\u001b[38;5;241m.\u001b[39mjoin(\u001b[43mfirst_part\u001b[49m), \u001b[38;5;241m+\u001b[39m \u001b[38;5;124m\"\u001b[39m\u001b[38;5;124m-\u001b[39m\u001b[38;5;124m\"\u001b[39m \u001b[38;5;241m+\u001b[39m \u001b[38;5;124m'\u001b[39m\u001b[38;5;124m'\u001b[39m\u001b[38;5;241m.\u001b[39mjoin(second_part))\n",
            "\u001b[1;31mNameError\u001b[0m: name 'first_part' is not defined"
          ]
        }
      ],
      "source": [
        "# Join our strings, with a hyphen at the cut site\n",
        "print(''.join(first_part) + \"-\" + ''.join(second_part))"
      ]
    },
    {
      "cell_type": "markdown",
      "metadata": {
        "id": "RGWx6mFXUBQ6"
      },
      "source": [
        "---\n",
        "\n",
        "## Tuples\n",
        "A tuple is a collection of \"ordered and immutable\" elements. Basically they are similar to lists, but **once a tuple is created, its elements cannot be changed**.\n",
        "\n",
        "Because they won't be sorted, elonogated or shortened, Tuples are often used to store related values that are constant and do not change. A classic example would be genomic co-ordinates. Because they are immutable they are also more memory-efficient and faster to access and process than lists.\n",
        "\n",
        "Tuples are differentiated from lists by using round brackets ```( )``` (parentheses) instead.\n",
        "\n",
        "Because we define a specific format we can access elements by name as they will always be in the same position:"
      ]
    },
    {
      "cell_type": "code",
      "execution_count": null,
      "metadata": {
        "colab": {
          "base_uri": "https://localhost:8080/"
        },
        "id": "32i4KcYAUwb5",
        "outputId": "20dfccd4-01f3-4ffe-bef2-d08c8a7d8e81"
      },
      "outputs": [
        {
          "name": "stdout",
          "output_type": "stream",
          "text": [
            "TFBS01\n",
            "1500\n",
            "1700\n"
          ]
        }
      ],
      "source": [
        "# Define a genomic coordinate as a tuple\n",
        "TFBS_coords = ('TFBS01', 1500, 1700)\n",
        "\n",
        "# Print the chromosome name\n",
        "print(TFBS_coords[0])\n",
        "\n",
        "# Print the start position\n",
        "print(TFBS_coords[1])\n",
        "\n",
        "# Print the end position\n",
        "print(TFBS_coords[2])\n"
      ]
    },
    {
      "cell_type": "markdown",
      "metadata": {
        "id": "TyArylsGQ919"
      },
      "source": [
        "Because of the fixed order of tuples there is also a very useful function to quickly assign the values to variables.\n",
        "\n",
        "We know the exact length and order of the tuple elements so we can assign them together on one line:"
      ]
    },
    {
      "cell_type": "code",
      "execution_count": null,
      "metadata": {
        "colab": {
          "base_uri": "https://localhost:8080/"
        },
        "id": "qakt6KEOQ9gu",
        "outputId": "beed1bc3-f462-4a62-d857-b396f026fe8c"
      },
      "outputs": [
        {
          "name": "stdout",
          "output_type": "stream",
          "text": [
            "ID:    TFBS01\n",
            "Start: 1500\n",
            "End:   1700\n",
            "BED format output: TFBS01:1500-1700\n"
          ]
        }
      ],
      "source": [
        "# Assign our three value tuple, to three new variable names\n",
        "id, start, end = TFBS_coords\n",
        "\n",
        "# And we can use them immediately\n",
        "print(\"ID:   \", id)\n",
        "print(\"Start:\", start)\n",
        "print(\"End:  \", end)\n",
        "print(\"BED format output:\", id + \":\" + str(start) + \"-\" + str(end))"
      ]
    },
    {
      "cell_type": "markdown",
      "metadata": {
        "id": "pVHT436sXvYe"
      },
      "source": [
        "---\n",
        "\n",
        "## Ranges\n",
        "Ranges are not really a different data type, but lets look at them quickly now as they are a very useful way of creating lists! Really, ranges are a type of automatic list method, where you can define the range and period in your sequence.\n",
        "\n",
        "You can easily create a simple range like so, but note that it is stored as a range-object until you force it to be a list:"
      ]
    },
    {
      "cell_type": "code",
      "execution_count": null,
      "metadata": {
        "colab": {
          "base_uri": "https://localhost:8080/"
        },
        "id": "yEDP7O52Y4jW",
        "outputId": "cca647c4-3c2e-4356-ed54-038e6cb69e20"
      },
      "outputs": [
        {
          "name": "stdout",
          "output_type": "stream",
          "text": [
            "range(0, 20)\n",
            "[0, 1, 2, 3, 4, 5, 6, 7, 8, 9, 10, 11, 12, 13, 14, 15, 16, 17, 18, 19]\n"
          ]
        }
      ],
      "source": [
        "x = range(20)\n",
        "\n",
        "# As it's own object\n",
        "print(x)\n",
        "\n",
        "# Forced List\n",
        "print(list(x))"
      ]
    },
    {
      "cell_type": "markdown",
      "metadata": {
        "id": "sTzljupXc-09"
      },
      "source": [
        "You can also define the interval that you want your sequence to have"
      ]
    },
    {
      "cell_type": "code",
      "execution_count": null,
      "metadata": {
        "id": "0M6iGIbCc6zW"
      },
      "outputs": [],
      "source": [
        "my_timeline = range(0, 20, 3)\n",
        "print(list(my_timeline))"
      ]
    },
    {
      "cell_type": "markdown",
      "metadata": {
        "id": "73tE45DaZP-w"
      },
      "source": [
        "### Exercise - Creating ranges\n",
        "\n",
        "You have taken a flourescence measurement of your culturing algae every **6 minutes for 5 hours** to see the response to a growth stimulation. We want to plot that data on a graph but we need to first create a list of the X axis time points (starting from time 0 and ending at 300).\n",
        "\n",
        "Your data is stored in a list variable named ```measurements```\n",
        "\n",
        "1. How many elements are going to be in your list? (You could either calculate it yourself, or count the length of your measurements)\n",
        "2. Create a list object named ```timeline``` using ```range()```. This will be your X-axis\n",
        "3. Run the graph making code to plot your data\n",
        "\n",
        "Note: Remember that list indexes must be inclusive!"
      ]
    },
    {
      "cell_type": "code",
      "execution_count": null,
      "metadata": {
        "colab": {
          "base_uri": "https://localhost:8080/"
        },
        "id": "ni-XFz3IZrJ4",
        "outputId": "e4e7c436-bce4-46fa-e044-650518e9aa00"
      },
      "outputs": [
        {
          "ename": "SyntaxError",
          "evalue": "invalid syntax (3958179867.py, line 5)",
          "output_type": "error",
          "traceback": [
            "\u001b[1;36m  Cell \u001b[1;32mIn[33], line 5\u001b[1;36m\u001b[0m\n\u001b[1;33m    timeline =\u001b[0m\n\u001b[1;37m                ^\u001b[0m\n\u001b[1;31mSyntaxError\u001b[0m\u001b[1;31m:\u001b[0m invalid syntax\n"
          ]
        }
      ],
      "source": [
        "# Your data\n",
        "measurements = [0.68, 1.69, 3.37, 5.61, 7.89, 9.86, 10.9, 10.84, 9.86, 8.22, 6.46, 4.69, 3.19, 2.05, 1.24, 0.7, 0.38, 0.2, 0.1, 0.05, 0.02, 0.01, 0.0, 0.0, 0.0, 0.0, 0.0, 0.0, 0.0, 0.0, 0.0, 0.0, 0.0, 0.0, 0.0, 0.0, 0.0, 0.5, 1.0, 2.0, 3.0, 1.0, 0.0, 0.0, 0.0, 0.0, 0.0, 0.0, 0.0, 0.0, 0.0]\n",
        "\n",
        "## Create your timeline\n",
        "timeline ="
      ]
    },
    {
      "cell_type": "code",
      "execution_count": null,
      "metadata": {
        "colab": {
          "base_uri": "https://localhost:8080/",
          "height": 449
        },
        "id": "kdmwllxUUGJ3",
        "outputId": "d91be75f-3288-44a5-cb50-500424d4bc99"
      },
      "outputs": [
        {
          "data": {
            "image/png": "[encoded data removed]",
            "text/plain": [
              "<Figure size 640x480 with 1 Axes>"
            ]
          },
          "metadata": {},
          "output_type": "display_data"
        }
      ],
      "source": [
        "# Make a quick graph\n",
        "import matplotlib.pyplot as plt\n",
        "\n",
        "plt.plot(timeline, measurements)\n",
        "plt.xlabel('Time')\n",
        "plt.ylabel('Fluorescence')\n",
        "plt.show()"
      ]
    },
    {
      "cell_type": "markdown",
      "metadata": {
        "id": "dHQW6joOSzSV"
      },
      "source": [
        "---\n",
        "\n",
        "# Two Dimensional (2D) lists\n",
        "\n",
        "2d lists are where each element of the list is a list itself. You can imagine it a little like rows and columns in a spreadsheet or dataframe.\n",
        "\n",
        "Here the first element in each row is a confidence value, the second is the gene ID, and the third is the length of the gene."
      ]
    },
    {
      "cell_type": "code",
      "execution_count": null,
      "metadata": {
        "id": "5yaBHQb6XSEs",
        "outputId": "eb2cd63b-0ac4-46bf-b0d8-d7a8b1a0fa97"
      },
      "outputs": [
        {
          "name": "stdout",
          "output_type": "stream",
          "text": [
            "[0.92, 'MET1', 2205]\n",
            "[0.82, 'EGFR', 1567]\n",
            "[0.87, 'BRCA1', 2323]\n"
          ]
        }
      ],
      "source": [
        "gene_confs = [[0.92, 'MET1', 2205], [0.82, 'EGFR', 1567], [0.93, 'KRAS', 6523], [0.4, 'TP53', 5002], [0.94, 'ROS5', 1999], [0.87, 'BRCA1', 2323]]\n",
        "\n",
        "print(gene_confs[0])\n",
        "print(gene_confs[1])\n",
        "print(gene_confs[-1])"
      ]
    },
    {
      "cell_type": "markdown",
      "metadata": {
        "id": "Ny7_kU2EXSEt"
      },
      "source": [
        "We can access individual elements of the annotation table using two indices by combining square bracket indexing like with a normal list"
      ]
    },
    {
      "cell_type": "code",
      "execution_count": null,
      "metadata": {
        "colab": {
          "base_uri": "https://localhost:8080/"
        },
        "id": "y80yavPgVvQm",
        "outputId": "42530ce9-7525-48e8-80bc-8fc4d41a71da"
      },
      "outputs": [
        {
          "name": "stdout",
          "output_type": "stream",
          "text": [
            "EGFR\n",
            "0.4\n",
            "2323\n",
            "2323\n"
          ]
        }
      ],
      "source": [
        "# Try and find the each of these outputs in the gene_confs list\n",
        "print(gene_confs[1][1])\n",
        "print(gene_confs[3][0])\n",
        "print(gene_confs[5][2])\n",
        "print(gene_confs[-1][-1])"
      ]
    },
    {
      "cell_type": "markdown",
      "metadata": {
        "id": "IN0PIuhlZvKG"
      },
      "source": [
        "We can then also add, remove, or sort the list just the same way as if it was a single list. Sort will work on just the first element in each sublist (there are more complex methods to sort on other elements, for later in the course!)\n",
        "\n",
        "One thing to note: There are two sort-related approaches. the ```.sort()``` method changes the list you already have, however ```sorted(list)``` will create a new list."
      ]
    },
    {
      "cell_type": "code",
      "execution_count": null,
      "metadata": {
        "id": "Mag-EckjXSEt"
      },
      "outputs": [],
      "source": [
        "# A reminder on functions/methods. Here we have a list but it is the same for strings or numbers\n",
        "my_data = [\"A\", \"B\", \"C\"]\n",
        "\n",
        "# Method format modifies the object\n",
        "my_data.method()\n",
        "\n",
        "# Function format uses the object and outputs something new\n",
        "new_data = function(my_data)"
      ]
    },
    {
      "cell_type": "code",
      "execution_count": null,
      "metadata": {
        "colab": {
          "base_uri": "https://localhost:8080/"
        },
        "id": "tOUm5LI7zEsQ",
        "outputId": "d1783e3d-be3f-43f2-9b4c-299136fbf0c8"
      },
      "outputs": [
        {
          "name": "stdout",
          "output_type": "stream",
          "text": [
            "gene_confs list:\t [[0.92, 'MET1', 2205], [0.82, 'EGFR', 1567], [0.93, 'KRAS', 6523], [0.4, 'TP53', 5002], [0.94, 'ROS5', 1999], [0.87, 'BRCA1', 2323]]\n",
            "new gene_confs list:\t [[0.4, 'TP53', 5002], [0.82, 'EGFR', 1567], [0.87, 'BRCA1', 2323], [0.92, 'MET1', 2205], [0.93, 'KRAS', 6523], [0.94, 'ROS5', 1999]]\n",
            "gene_confs list:\t [[0.94, 'ROS5', 1999], [0.93, 'KRAS', 6523], [0.92, 'MET1', 2205], [0.87, 'BRCA1', 2323], [0.82, 'EGFR', 1567], [0.4, 'TP53', 5002]]\n"
          ]
        }
      ],
      "source": [
        "gene_confs = [[0.92, 'MET1', 2205], [0.82, 'EGFR', 1567], [0.93, 'KRAS', 6523], [0.4, 'TP53', 5002], [0.94, 'ROS5', 1999], [0.87, 'BRCA1', 2323]]\n",
        "\n",
        "# Sort function\n",
        "new_list = sorted(gene_confs)\n",
        "# Now we have two lists\n",
        "print(\"gene_confs list:\\t\", gene_confs)\n",
        "print(\"new gene_confs list:\\t\", new_list)\n",
        "\n",
        "# Sort method - Here we just modify the first list\n",
        "gene_confs.sort(reverse = True)\n",
        "# Printing the original list is now different\n",
        "print(\"gene_confs list:\\t\", gene_confs)"
      ]
    },
    {
      "cell_type": "markdown",
      "metadata": {
        "id": "tWtcaTq6aOzg"
      },
      "source": [
        "**Extension:**\n",
        "\n",
        "There is also a method named ```zip``` which can combine lists into an array. Incredibly useful!\n",
        "\n",
        "We will see it later in more complex examples but works simply like this:"
      ]
    },
    {
      "cell_type": "code",
      "execution_count": null,
      "metadata": {
        "colab": {
          "base_uri": "https://localhost:8080/"
        },
        "id": "epyWZLAGasNA",
        "outputId": "bab36286-da9a-428b-a627-c3531ae78963"
      },
      "outputs": [
        {
          "name": "stdout",
          "output_type": "stream",
          "text": [
            "<zip object at 0x000001626645DAC0>\n",
            "[('A', 24), ('T', 17), ('C', 73), ('G', 26)]\n"
          ]
        }
      ],
      "source": [
        "bases = [\"A\", \"T\", \"C\", \"G\"]\n",
        "count = [24, 17, 73, 26]\n",
        "\n",
        "combined_base_count = zip(bases, count)\n",
        "\n",
        "print(combined_base_count)\n",
        "print(list(combined_base_count))"
      ]
    },
    {
      "cell_type": "markdown",
      "metadata": {
        "id": "k4B5OynX93p9"
      },
      "source": [
        "Note that it creates tuples, not a list, and also the requirement to force a ```list``` object to make it print.\n",
        "\n",
        "You can also unzip in reverse, splitting a 2D list into two lists using the ```*``` on the 2d list:"
      ]
    },
    {
      "cell_type": "code",
      "execution_count": null,
      "metadata": {
        "colab": {
          "base_uri": "https://localhost:8080/"
        },
        "id": "TWeRorxK9-Jd",
        "outputId": "2692be23-933f-4bda-b36c-0eb86ce97f69"
      },
      "outputs": [
        {
          "name": "stdout",
          "output_type": "stream",
          "text": [
            "('WT', 'Mut1', 'Mut2', 'Mut3')\n",
            "(98, 76, 86, 79)\n"
          ]
        }
      ],
      "source": [
        "line_exp = [(\"WT\", 98), (\"Mut1\", 76), (\"Mut2\", 86), (\"Mut3\", 79)]\n",
        "\n",
        "line, exp = zip(*line_exp)\n",
        "\n",
        "print(line)\n",
        "print(exp)\n"
      ]
    },
    {
      "cell_type": "markdown",
      "metadata": {
        "id": "21ou3cQMXQj-"
      },
      "source": [
        "### Exercise: Manipulating 2D lists\n",
        "\n",
        "Here we have a list of genes with three values: confidence score, geneID, and gene length\n",
        "\n",
        "1. Sort the gene list by confidence value\n",
        "2. Create a new variable named ```highest``` which contains the gene ID of the list with the highest confidence value and print it\n",
        "3. We have new data! Add two new elements to the list:\n",
        "        ```[0.97, APC1 , 4287]``` and  ```[0.72, COI, 1660]```\n",
        "(there are several ways to do this! You could look back at the joining list section for a refresh)\n",
        "4. Put the three genes with the lowest confidence into a new list named ```low_conf_genes``` and print it.\n",
        "\n",
        "**Extension:** 5. Add a new element into the gene_confs list for the low confidence genes so that they have a 4th element saying ```RETEST```\n",
        "\n",
        "Note: If you have done some programming before you may notice that in several of these examples there are better and quicker ways to achieve the steps by using loops and conditionals. We will cover this in the next session but for now, use the commands we've learned\n"
      ]
    },
    {
      "cell_type": "code",
      "execution_count": null,
      "metadata": {
        "id": "PF0FvjEqeaZ2"
      },
      "outputs": [],
      "source": [
        "gene_confs = [[0.92, 'MET1', 2205], [0.82, 'EGFR', 1567], [0.93, 'KRAS', 6523], [0.4, 'TP53', 5002], [0.94, 'ROS5', 1999], [0.87, 'BRCA1', 2323]]\n",
        "\n",
        "# Your code\n"
      ]
    }
  ],
  "metadata": {
    "colab": {
      "provenance": []
    },
    "kernelspec": {
      "display_name": "Python 3",
      "name": "python3"
    },
    "language_info": {
      "codemirror_mode": {
        "name": "ipython",
        "version": 3
      },
      "file_extension": ".py",
      "mimetype": "text/x-python",
      "name": "python",
      "nbconvert_exporter": "python",
      "pygments_lexer": "ipython3",
      "version": "3.11.5"
    }
  },
  "nbformat": 4,
  "nbformat_minor": 0
}