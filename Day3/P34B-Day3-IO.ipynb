{
  "cells": [
    {
      "cell_type": "markdown",
      "metadata": {
        "id": "QfYvI-_yE10I"
      },
      "source": [
        "# Practical Python Programming for Biologists\n",
        "Author: Dr. Daniel Pass | www.CompassBioinformatics.com\n",
        "\n",
        "---\n",
        "\n",
        "This session we will look at reading to and from files. Often not as important with beginners coding courses, but biological data is pretty typically depending on lots of large files being read in so lets find out how.\n",
        "\n",
        "Note: You will need to add the Classdata files to the colab runtime to access them, or if running on your own computer know the full path to where you have downloaded the files"
      ]
    },
    {
      "cell_type": "markdown",
      "metadata": {
        "id": "fEnty3q6ImKg"
      },
      "source": [
        "# Python I/O Handling\n",
        "\n",
        "In Python, input/output (I/O) handling is the process of reading data from external sources and writing data to external destinations. This is a fundamental aspect of programming especially in bioinformatics given the amount of data files we work with.\n",
        "\n",
        "## Reading a Text File\n",
        "\n",
        "One of the most regular I/O operations in Python is reading data from a file. In Python, we can read a text file using the `open()` function and the `read()` method. This will load the whole file into one variable.\n"
      ]
    },
    {
      "cell_type": "code",
      "execution_count": 5,
      "metadata": {
        "colab": {
          "base_uri": "https://localhost:8080/"
        },
        "id": "Ow-21O4gIl6g",
        "outputId": "0844c474-1021-4018-f766-d3d9d15529c3"
      },
      "outputs": [
        {
          "output_type": "stream",
          "name": "stdout",
          "text": [
            "<class 'str'>\n"
          ]
        }
      ],
      "source": [
        "# Open the file in read mode\n",
        "with open('/CanisLupisCO1.fasta') as  inputFile:\n",
        "  # Read the contents of the file\n",
        "  data = inputFile.read()\n",
        "\n",
        "print(type(data))\n"
      ]
    },
    {
      "cell_type": "markdown",
      "metadata": {
        "id": "L4m8DaW-XbYv"
      },
      "source": [
        "An alternative is to read one line at a time as a temporary variable. This means the whole file isn't stored in memory (good for big files) but you don't have all the data available unless you add it to a variable."
      ]
    },
    {
      "cell_type": "code",
      "execution_count": 6,
      "metadata": {
        "colab": {
          "base_uri": "https://localhost:8080/"
        },
        "id": "9y_qiWm6XxIL",
        "outputId": "a1f794bd-34b1-48c7-8dae-43653b372f63"
      },
      "outputs": [
        {
          "output_type": "stream",
          "name": "stdout",
          "text": [
            "This is line number 1 :\t >U96639.2:5349-6893 Canis familiaris mitochondrion, cytochrome c oxidase subunit I\n",
            "This is line number 2 :\t ATGTTCATTAACCGATGACTGTTCTCCACTAATCACAAGGATATTGGTACTTTATACTTACTATTTGGAG\n",
            "This is line number 3 :\t CATGAGCCGGTATAGTAGGCACTGCTTTGAGCCTCCTCATCCGAGCCGAACTAGGTCAGCCCGGTACTTT\n",
            "This is line number 4 :\t ACTAGGTGACGATCAAATTTATAATGTCATCGTAACCGCCCATGCTTTCGTAATAATCTTCTTCATAGTC\n",
            "This is line number 5 :\t ATGCCCATCATAATTGGGGGCTTTGGAAACTGACTAGTGCCGTTAATAATTGGTGCTCCGGACATGGCAT\n",
            "This is line number 6 :\t TCCCCCGAATAAATAACATGAGCTTCTGACTCCTTCCTCCATCCTTTCTTCTACTATTAGCATCTTCTAT\n",
            "This is line number 7 :\t GGTAGAAGCAGGTGCAGGAACGGGATGAACCGTATACCCCCCACTGGCTGGCAATCTGGCCCATGCAGGA\n",
            "This is line number 8 :\t GCATCCGTTGACCTTACAATTTTCTCCTTACACTTAGCCGGAGTCTCTTCTATTTTAGGGGCAATTAATT\n",
            "This is line number 9 :\t TCATCACTACTATTATCAACATAAAACCCCCTGCAATATCCCAGTATCAAACTCCCCTGTTTGTATGATC\n",
            "This is line number 10 :\t AGTACTAATTACAGCAGTTCTACTCTTACTATCCCTGCCTGTACTGGCTGCTGGAATTACAATACTTTTA\n",
            "This is line number 11 :\t ACAGACCGGAATCTTAATACAACATTTTTTGATCCCGCTGGAGGAGGAGACCCTATCCTATATCAACACC\n",
            "This is line number 12 :\t TATTCTGATTCTTCGGACATCCTGAAGTTTACATTCTTATCCTGCCCGGATTCGGAATAATTTCTCACAT\n"
          ]
        }
      ],
      "source": [
        "count = 1\n",
        "\n",
        "with open('/CanisLupisCO1.fasta') as dogDNA:\n",
        "  for line in dogDNA.readlines():\n",
        "    print(\"This is line number\", count, \":\\t\", line.strip())\n",
        "    count +=1"
      ]
    },
    {
      "cell_type": "markdown",
      "metadata": {
        "id": "eiH5jnkZbv5U"
      },
      "source": [
        "Somthing a bit more complex now. Another useful python method is .startswith() to check if something.... starts with a character! Here we can use ```not``` so that it skips the first line because it begins with a ```>``` character.\n",
        "\n",
        "Also lets put the data from the file into a list so that we can refer to it later and do more testing"
      ]
    },
    {
      "cell_type": "code",
      "execution_count": null,
      "metadata": {
        "id": "RLG2ldwbbSH1"
      },
      "outputs": [],
      "source": [
        "my_lines = []\n",
        "\n",
        "with open('/CanisLupisCO1.fasta') as dogDNA:\n",
        "\n",
        "    if not line.startswith('>'):\n",
        "      my_lines.append(line.strip())\n",
        "\n",
        "for line in my_lines:\n",
        "  if line.count('T') > 25:\n",
        "    print(line)"
      ]
    },
    {
      "cell_type": "markdown",
      "metadata": {
        "id": "yL-uWFY7ZDMR"
      },
      "source": [
        "There is also the similarly named ```.readline()``` (notice it's singular, not plural). That will read just one line from the file at a time. This is powerful for extracting header or title lines without reading the whole file with a loop."
      ]
    },
    {
      "cell_type": "code",
      "execution_count": 7,
      "metadata": {
        "colab": {
          "base_uri": "https://localhost:8080/"
        },
        "id": "NH2cw6zeZVqZ",
        "outputId": "0111361c-9638-4ed2-d63c-ff287048fbbc"
      },
      "outputs": [
        {
          "output_type": "stream",
          "name": "stdout",
          "text": [
            ">U96639.2:5349-6893 Canis familiaris mitochondrion, cytochrome c oxidase subunit I\n",
            "\n"
          ]
        }
      ],
      "source": [
        "with open('/CanisLupisCO1.fasta') as dogDNA:\n",
        "  header = dogDNA.readline()\n",
        "  print(header)"
      ]
    },
    {
      "cell_type": "markdown",
      "metadata": {
        "id": "khTul_LuLAw1"
      },
      "source": [
        "\n",
        "\n",
        "## Writing to a Text File\n",
        "\n",
        "We can of course also write data to a file in Python. Usually this will be more useful than just putting information onto the screen when working with big bioinformatic files.\n",
        "\n",
        "To write to a file, we need to open the file in write mode using the `open()` function and use the `write()` method to choose what to output.\n",
        "\n",
        "Note: The only change in the ```open()``` function is the second parameter of 'w'. We didn't need a second parameter when reading as 'r' is the default.\n"
      ]
    },
    {
      "cell_type": "code",
      "execution_count": 10,
      "metadata": {
        "id": "Kipb30gME0Pm",
        "outputId": "daba7f3b-74c1-40c3-c61c-52f15c5c9978",
        "colab": {
          "base_uri": "https://localhost:8080/",
          "height": 200
        }
      },
      "outputs": [
        {
          "output_type": "error",
          "ename": "NameError",
          "evalue": "name 'my_lines' is not defined",
          "traceback": [
            "\u001b[0;31m---------------------------------------------------------------------------\u001b[0m",
            "\u001b[0;31mNameError\u001b[0m                                 Traceback (most recent call last)",
            "\u001b[0;32m/tmp/ipython-input-3571781182.py\u001b[0m in \u001b[0;36m<cell line: 0>\u001b[0;34m()\u001b[0m\n\u001b[1;32m      1\u001b[0m \u001b[0;31m# Open the file in write mode\u001b[0m\u001b[0;34m\u001b[0m\u001b[0;34m\u001b[0m\u001b[0m\n\u001b[1;32m      2\u001b[0m \u001b[0;32mwith\u001b[0m \u001b[0mopen\u001b[0m\u001b[0;34m(\u001b[0m\u001b[0;34m'line_selection.txt'\u001b[0m\u001b[0;34m,\u001b[0m \u001b[0;34m'w'\u001b[0m\u001b[0;34m)\u001b[0m \u001b[0;32mas\u001b[0m \u001b[0moutput_file\u001b[0m\u001b[0;34m:\u001b[0m\u001b[0;34m\u001b[0m\u001b[0;34m\u001b[0m\u001b[0m\n\u001b[0;32m----> 3\u001b[0;31m   \u001b[0mo_line\u001b[0m \u001b[0;34m=\u001b[0m \u001b[0;34m','\u001b[0m\u001b[0;34m.\u001b[0m\u001b[0mjoin\u001b[0m\u001b[0;34m(\u001b[0m\u001b[0mmy_lines\u001b[0m\u001b[0;34m)\u001b[0m\u001b[0;34m\u001b[0m\u001b[0;34m\u001b[0m\u001b[0m\n\u001b[0m\u001b[1;32m      4\u001b[0m   \u001b[0moutput_file\u001b[0m\u001b[0;34m.\u001b[0m\u001b[0mwrite\u001b[0m\u001b[0;34m(\u001b[0m\u001b[0mo_line\u001b[0m\u001b[0;34m)\u001b[0m\u001b[0;34m\u001b[0m\u001b[0;34m\u001b[0m\u001b[0m\n",
            "\u001b[0;31mNameError\u001b[0m: name 'my_lines' is not defined"
          ]
        }
      ],
      "source": [
        "# Open the file in write mode\n",
        "with open('line_selection.txt', 'w') as output_file:\n",
        "  o_line = ','.join(my_lines)\n",
        "  output_file.write(o_line)"
      ]
    },
    {
      "cell_type": "markdown",
      "metadata": {
        "id": "Q8k6UGNFrdA4"
      },
      "source": [
        "Check the file that you just created!"
      ]
    },
    {
      "cell_type": "markdown",
      "metadata": {
        "id": "9fhInTrKLDEI"
      },
      "source": [
        "\n",
        "## Appending to a Text File\n",
        "\n",
        "We can also append data to a file instead of destroying and creating a new file each time using the `open()` function in ***append*** mode and the `write()` method. Here is an example:"
      ]
    },
    {
      "cell_type": "code",
      "execution_count": null,
      "metadata": {
        "id": "JdHXC4A1K7TZ"
      },
      "outputs": [],
      "source": [
        "# Open the file in append mode\n",
        "with open('declaration.txt', 'a') as outputFile:\n",
        "  # Append to the file\n",
        "  outputFile.write('\\nand again.')\n",
        "  outputFile.write('\\nand again..')\n",
        "  outputFile.write('\\nand again...')\n"
      ]
    },
    {
      "cell_type": "markdown",
      "metadata": {
        "id": "AH0He18CLUrA"
      },
      "source": [
        "## In closing...\n",
        "In Python, it is important to close a file after reading from or writing to it. In the olden days of a few years ago we would use the `close()` method in python, but now it is recommended to use the ```with``` manager for more simple and readable code. I'm mostly including this here in case you see or use older code that uses the previous format.\n",
        "\n",
        "Basically, because you're interacting with files outside of python it needs to be told when you're finished, for a few reasons:\n",
        "\n",
        "1. Memory management: When a file is opened in Python, the operating system allocates memory to store the data read/written from/to a file. If the file is not closed properly, the memory used by the file remains allocated which can cause performance issues or crash the program.\n",
        "\n",
        "2. Data corruption: If a file is not closed properly, any data that has not been written to the file may be lost (think of a USB unplugged too soon). This can result in corrupted or incomplete data, which can cause issues when the data is later read or used.\n",
        "\n",
        "3. Resource management: When a file is opened, it is locked by the operating system to prevent other processes from modifying it. If a file is not closed properly, it remains locked, preventing other processes from accessing or modifying the file. This can cause issues if the file is needed by another program or process.\n",
        "\n",
        "To summarise, always close the file! But if you're using ```with```, then it's automatic."
      ]
    },
    {
      "cell_type": "markdown",
      "metadata": {
        "id": "uRKorAgxMr2I"
      },
      "source": [
        "## Exercises\n",
        "\n",
        "1. Read in the ```am181037.embl``` file and put all lines into a list\n",
        "2. Modify your code to only keep lines that do not begin with empty whitespace or the ```FT``` tag, and have them put into the list\n",
        "3. Write a new file with just the gene descriptions in (The lines that begin with ```KW```).\n",
        "\n",
        "Extension: Include the number of genes in the filename - Can this be done automatically?"
      ]
    },
    {
      "cell_type": "code",
      "source": [
        "\n",
        "keeplines = []\n",
        "with open('/am181037.embl', 'r') as embl:\n",
        "  for line in embl.readlines():\n",
        "    if line.startswith(' ') or line.startswith ('FT'):\n",
        "      continue\n",
        "    else:\n",
        "      keeplines.append(line.strip())\n",
        "\n",
        "\n",
        "  for i in keeplines:\n",
        "    print(i)\n",
        "\n"
      ],
      "metadata": {
        "id": "MbQJdRmQxbGy",
        "outputId": "898125d8-0f7d-4b16-fa7c-3bcaf4e22e8e",
        "colab": {
          "base_uri": "https://localhost:8080/"
        }
      },
      "execution_count": 18,
      "outputs": [
        {
          "output_type": "stream",
          "name": "stdout",
          "text": [
            "ID   AM181037; SV 1; circular; genomic DNA; STD; MAM; 16813 BP.\n",
            "XX\n",
            "AC   AM181037;\n",
            "XX\n",
            "DT   26-SEP-2006 (Rel. 89, Created)\n",
            "DT   21-AUG-2007 (Rel. 92, Last updated, Version 3)\n",
            "XX\n",
            "DE   Vulpes vulpes complete mitochondrial genome\n",
            "XX\n",
            "KW   12S ribosomal RNA; 12S rRNA gene; 16S ribosomal RNA; 16S rRNA gene;\n",
            "KW   ATPase 6 gene; ATPase 8 gene; ATPase subunit 6; ATPase subunit 8; COI gene;\n",
            "KW   COII gene; COIII gene; complete genome; control region; cytb gene;\n",
            "KW   cytochrome b; cytochrome oxidase subunit I; cytochrome oxidase subunit II;\n",
            "KW   cytochrome oxidase subunit III; NADH dehydrogenase subunit 1;\n",
            "KW   NADH dehydrogenase subunit 2; NADH dehydrogenase subunit 3;\n",
            "KW   NADH dehydrogenase subunit 4; NADH dehydrogenase subunit 4L;\n",
            "KW   NADH dehydrogenase subunit 5; NADH dehydrogenase subunit 6; NADH1 gene;\n",
            "KW   NADH2 gene; NADH3 gene; NADH4 gene; NADH4L gene; NADH5 gene; NADH6 gene;\n",
            "KW   transfer RNA-Ala; transfer RNA-Arg; transfer RNA-Asn; transfer RNA-Asp;\n",
            "KW   transfer RNA-Cys; transfer RNA-Gln; transfer RNA-Glu; transfer RNA-Gly;\n",
            "KW   transfer RNA-His; transfer RNA-Ile; transfer RNA-Leu(CUN);\n",
            "KW   transfer RNA-Leu(UUR); transfer RNA-Lys; transfer RNA-Met;\n",
            "KW   transfer RNA-Phe; transfer RNA-Pro; transfer RNA-Ser(AGY);\n",
            "KW   transfer RNA-Ser(UCN); transfer RNA-Thr; transfer RNA-Trp;\n",
            "KW   transfer RNA-Tyr; transfer RNA-Val; tRNA-Ala gene; tRNA-Arg gene;\n",
            "KW   tRNA-Asn gene; tRNA-Asp gene; tRNA-Cys gene; tRNA-Gln gene; tRNA-Glu gene;\n",
            "KW   tRNA-Gly gene; tRNA-His gene; tRNA-Ile gene; tRNA-Leu(CUN) gene;\n",
            "KW   tRNA-Leu(UUR) gene; tRNA-Lys gene; tRNA-Met gene; tRNA-Phe gene;\n",
            "KW   tRNA-Pro gene; tRNA-Ser(AGY) gene; tRNA-Ser(UCN) gene; tRNA-Thr gene;\n",
            "KW   tRNA-Trp gene; tRNA-Tyr gene; tRNA-Val gene.\n",
            "XX\n",
            "OS   Vulpes vulpes (red fox)\n",
            "OC   Eukaryota; Metazoa; Chordata; Craniata; Vertebrata; Euteleostomi; Mammalia;\n",
            "OC   Eutheria; Laurasiatheria; Carnivora; Caniformia; Canidae; Vulpes.\n",
            "OG   Mitochondrion\n",
            "XX\n",
            "RN   [1]\n",
            "RP   1-16813\n",
            "RA   Arnason U.;\n",
            "RT   ;\n",
            "RL   Submitted (04-JAN-2006) to the INSDC.\n",
            "RL   Arnason U., Cell and Organism Biology, Evolutionary Molecular Systematics,\n",
            "RL   Solvegatan 29, S-22362 Lund, SWEDEN.\n",
            "XX\n",
            "RN   [2]\n",
            "RX   DOI; 10.1016/j.ympev.2006.05.022.\n",
            "RX   PUBMED; 16815048.\n",
            "RA   Arnason U., Gullberg A., Janke A., Kullberg M., Lehman N., Petrov E.A.,\n",
            "RA   Vainola R.;\n",
            "RT   \"Pinniped phylogeny and a new hypothesis for their origin and dispersal\";\n",
            "RL   Mol. Phylogenet. Evol. 41(2):345-354(2006).\n",
            "XX\n",
            "DR   MD5; d144ebb62c74d216a7b64ffb815300ff.\n",
            "DR   EuropePMC; PMC2892506; 20525407.\n",
            "DR   EuropePMC; PMC3689046; 23738594.\n",
            "DR   RFAM; RF00005; tRNA.\n",
            "XX\n",
            "FH   Key             Location/Qualifiers\n",
            "FH\n",
            "XX\n",
            "SQ   Sequence 16813 BP; 5257 A; 4378 C; 2502 G; 4676 T; 0 other;\n",
            "//\n"
          ]
        }
      ]
    },
    {
      "cell_type": "code",
      "execution_count": null,
      "metadata": {
        "id": "N4rDYuMJMWPA"
      },
      "outputs": [],
      "source": [
        "# Write your script here\n",
        "\n",
        "keeplines = []\n",
        "\n",
        "with open('/am181037.embl') as embl:\n",
        "  for line in embl.readlines():\n",
        "    if not line.startswith('  ') and not line.startswith('FT'):\n",
        "        keeplines.append(line.strip())\n",
        "\n",
        "with open('KW_lines.txt', 'w') as outFile:\n",
        "  for line in keeplines:\n",
        "    if line.startswith('KW'):\n",
        "      outFile.write(line + \"\\n\")\n"
      ]
    }
  ],
  "metadata": {
    "colab": {
      "provenance": []
    },
    "kernelspec": {
      "display_name": "Python 3",
      "name": "python3"
    },
    "language_info": {
      "codemirror_mode": {
        "name": "ipython",
        "version": 3
      },
      "file_extension": ".py",
      "mimetype": "text/x-python",
      "name": "python",
      "nbconvert_exporter": "python",
      "pygments_lexer": "ipython3",
      "version": "3.11.5"
    }
  },
  "nbformat": 4,
  "nbformat_minor": 0
}